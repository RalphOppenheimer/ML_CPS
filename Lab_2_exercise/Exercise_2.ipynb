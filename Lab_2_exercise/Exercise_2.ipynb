{
 "cells": [
  {
   "cell_type": "markdown",
   "metadata": {},
   "source": [
    "# ------------------------------------------------------ Linear regression with one variable"
   ]
  },
  {
   "cell_type": "markdown",
   "metadata": {},
   "source": [
    "### Importing libraries"
   ]
  },
  {
   "cell_type": "code",
   "execution_count": 1,
   "metadata": {},
   "outputs": [],
   "source": [
    "import numpy as np\n",
    "import pandas as pd\n",
    "import matplotlib.pyplot as plt"
   ]
  },
  {
   "cell_type": "markdown",
   "metadata": {},
   "source": [
    "### Loading data, along with os module - for system path specifying"
   ]
  },
  {
   "cell_type": "code",
   "execution_count": 2,
   "metadata": {},
   "outputs": [],
   "source": [
    "import os\n",
    "path = os.getcwd() + '/dane1.txt'\n",
    "data = pd.read_csv(path, header=None, names=['Population', 'Profit'])"
   ]
  },
  {
   "cell_type": "markdown",
   "metadata": {},
   "source": [
    "## ***Exercise 1:***"
   ]
  },
  {
   "cell_type": "markdown",
   "metadata": {},
   "source": [
    "#### Use the head and describe function to examine the data and display few columns."
   ]
  },
  {
   "cell_type": "code",
   "execution_count": 3,
   "metadata": {},
   "outputs": [
    {
     "data": {
      "text/html": [
       "<div>\n",
       "<style scoped>\n",
       "    .dataframe tbody tr th:only-of-type {\n",
       "        vertical-align: middle;\n",
       "    }\n",
       "\n",
       "    .dataframe tbody tr th {\n",
       "        vertical-align: top;\n",
       "    }\n",
       "\n",
       "    .dataframe thead th {\n",
       "        text-align: right;\n",
       "    }\n",
       "</style>\n",
       "<table border=\"1\" class=\"dataframe\">\n",
       "  <thead>\n",
       "    <tr style=\"text-align: right;\">\n",
       "      <th></th>\n",
       "      <th>Population</th>\n",
       "      <th>Profit</th>\n",
       "    </tr>\n",
       "  </thead>\n",
       "  <tbody>\n",
       "    <tr>\n",
       "      <th>0</th>\n",
       "      <td>6.1101</td>\n",
       "      <td>17.5920</td>\n",
       "    </tr>\n",
       "    <tr>\n",
       "      <th>1</th>\n",
       "      <td>5.5277</td>\n",
       "      <td>9.1302</td>\n",
       "    </tr>\n",
       "    <tr>\n",
       "      <th>2</th>\n",
       "      <td>8.5186</td>\n",
       "      <td>13.6620</td>\n",
       "    </tr>\n",
       "    <tr>\n",
       "      <th>3</th>\n",
       "      <td>7.0032</td>\n",
       "      <td>11.8540</td>\n",
       "    </tr>\n",
       "    <tr>\n",
       "      <th>4</th>\n",
       "      <td>5.8598</td>\n",
       "      <td>6.8233</td>\n",
       "    </tr>\n",
       "  </tbody>\n",
       "</table>\n",
       "</div>"
      ],
      "text/plain": [
       "   Population   Profit\n",
       "0      6.1101  17.5920\n",
       "1      5.5277   9.1302\n",
       "2      8.5186  13.6620\n",
       "3      7.0032  11.8540\n",
       "4      5.8598   6.8233"
      ]
     },
     "execution_count": 3,
     "metadata": {},
     "output_type": "execute_result"
    }
   ],
   "source": [
    "data.head()"
   ]
  },
  {
   "cell_type": "code",
   "execution_count": 4,
   "metadata": {},
   "outputs": [
    {
     "data": {
      "text/html": [
       "<div>\n",
       "<style scoped>\n",
       "    .dataframe tbody tr th:only-of-type {\n",
       "        vertical-align: middle;\n",
       "    }\n",
       "\n",
       "    .dataframe tbody tr th {\n",
       "        vertical-align: top;\n",
       "    }\n",
       "\n",
       "    .dataframe thead th {\n",
       "        text-align: right;\n",
       "    }\n",
       "</style>\n",
       "<table border=\"1\" class=\"dataframe\">\n",
       "  <thead>\n",
       "    <tr style=\"text-align: right;\">\n",
       "      <th></th>\n",
       "      <th>Population</th>\n",
       "      <th>Profit</th>\n",
       "    </tr>\n",
       "  </thead>\n",
       "  <tbody>\n",
       "    <tr>\n",
       "      <th>count</th>\n",
       "      <td>97.000000</td>\n",
       "      <td>97.000000</td>\n",
       "    </tr>\n",
       "    <tr>\n",
       "      <th>mean</th>\n",
       "      <td>8.159800</td>\n",
       "      <td>5.839135</td>\n",
       "    </tr>\n",
       "    <tr>\n",
       "      <th>std</th>\n",
       "      <td>3.869884</td>\n",
       "      <td>5.510262</td>\n",
       "    </tr>\n",
       "    <tr>\n",
       "      <th>min</th>\n",
       "      <td>5.026900</td>\n",
       "      <td>-2.680700</td>\n",
       "    </tr>\n",
       "    <tr>\n",
       "      <th>25%</th>\n",
       "      <td>5.707700</td>\n",
       "      <td>1.986900</td>\n",
       "    </tr>\n",
       "    <tr>\n",
       "      <th>50%</th>\n",
       "      <td>6.589400</td>\n",
       "      <td>4.562300</td>\n",
       "    </tr>\n",
       "    <tr>\n",
       "      <th>75%</th>\n",
       "      <td>8.578100</td>\n",
       "      <td>7.046700</td>\n",
       "    </tr>\n",
       "    <tr>\n",
       "      <th>max</th>\n",
       "      <td>22.203000</td>\n",
       "      <td>24.147000</td>\n",
       "    </tr>\n",
       "  </tbody>\n",
       "</table>\n",
       "</div>"
      ],
      "text/plain": [
       "       Population     Profit\n",
       "count   97.000000  97.000000\n",
       "mean     8.159800   5.839135\n",
       "std      3.869884   5.510262\n",
       "min      5.026900  -2.680700\n",
       "25%      5.707700   1.986900\n",
       "50%      6.589400   4.562300\n",
       "75%      8.578100   7.046700\n",
       "max     22.203000  24.147000"
      ]
     },
     "execution_count": 4,
     "metadata": {},
     "output_type": "execute_result"
    }
   ],
   "source": [
    "data.describe()"
   ]
  },
  {
   "cell_type": "markdown",
   "metadata": {},
   "source": [
    "## ***Exercise 2:***"
   ]
  },
  {
   "cell_type": "markdown",
   "metadata": {},
   "source": [
    "#### Plot and analyze the data, where: x - population, y - profit."
   ]
  },
  {
   "cell_type": "code",
   "execution_count": 5,
   "metadata": {},
   "outputs": [
    {
     "data": {
      "text/plain": [
       "Text(0.5, 0, 'Population')"
      ]
     },
     "execution_count": 5,
     "metadata": {},
     "output_type": "execute_result"
    },
    {
     "data": {
      "image/png": "[encoded data removed]",
      "text/plain": [
       "<Figure size 432x288 with 1 Axes>"
      ]
     },
     "metadata": {
      "needs_background": "light"
     },
     "output_type": "display_data"
    }
   ],
   "source": [
    "plt.plot(data['Population'], data['Profit'], 'bo')\n",
    "plt.ylabel('Profit')\n",
    "plt.xlabel('Population')"
   ]
  },
  {
   "cell_type": "markdown",
   "metadata": {},
   "source": [
    "## ***Exercise 3:***"
   ]
  },
  {
   "cell_type": "markdown",
   "metadata": {},
   "source": [
    "#### In order to make this cost function work we need to insert a column of 1s at the beginning of the data frame."
   ]
  },
  {
   "cell_type": "code",
   "execution_count": 6,
   "metadata": {},
   "outputs": [
    {
     "data": {
      "text/plain": [
       "97.0"
      ]
     },
     "execution_count": 6,
     "metadata": {},
     "output_type": "execute_result"
    }
   ],
   "source": [
    "data.describe().loc['count', 'Population'] "
   ]
  },
  {
   "cell_type": "code",
   "execution_count": 7,
   "metadata": {},
   "outputs": [],
   "source": [
    "data['One_column'] = 1"
   ]
  },
  {
   "cell_type": "code",
   "execution_count": 8,
   "metadata": {},
   "outputs": [
    {
     "data": {
      "text/html": [
       "<div>\n",
       "<style scoped>\n",
       "    .dataframe tbody tr th:only-of-type {\n",
       "        vertical-align: middle;\n",
       "    }\n",
       "\n",
       "    .dataframe tbody tr th {\n",
       "        vertical-align: top;\n",
       "    }\n",
       "\n",
       "    .dataframe thead th {\n",
       "        text-align: right;\n",
       "    }\n",
       "</style>\n",
       "<table border=\"1\" class=\"dataframe\">\n",
       "  <thead>\n",
       "    <tr style=\"text-align: right;\">\n",
       "      <th></th>\n",
       "      <th>Population</th>\n",
       "      <th>Profit</th>\n",
       "      <th>One_column</th>\n",
       "    </tr>\n",
       "  </thead>\n",
       "  <tbody>\n",
       "    <tr>\n",
       "      <th>0</th>\n",
       "      <td>6.1101</td>\n",
       "      <td>17.59200</td>\n",
       "      <td>1</td>\n",
       "    </tr>\n",
       "    <tr>\n",
       "      <th>1</th>\n",
       "      <td>5.5277</td>\n",
       "      <td>9.13020</td>\n",
       "      <td>1</td>\n",
       "    </tr>\n",
       "    <tr>\n",
       "      <th>2</th>\n",
       "      <td>8.5186</td>\n",
       "      <td>13.66200</td>\n",
       "      <td>1</td>\n",
       "    </tr>\n",
       "    <tr>\n",
       "      <th>3</th>\n",
       "      <td>7.0032</td>\n",
       "      <td>11.85400</td>\n",
       "      <td>1</td>\n",
       "    </tr>\n",
       "    <tr>\n",
       "      <th>4</th>\n",
       "      <td>5.8598</td>\n",
       "      <td>6.82330</td>\n",
       "      <td>1</td>\n",
       "    </tr>\n",
       "    <tr>\n",
       "      <th>...</th>\n",
       "      <td>...</td>\n",
       "      <td>...</td>\n",
       "      <td>...</td>\n",
       "    </tr>\n",
       "    <tr>\n",
       "      <th>92</th>\n",
       "      <td>5.8707</td>\n",
       "      <td>7.20290</td>\n",
       "      <td>1</td>\n",
       "    </tr>\n",
       "    <tr>\n",
       "      <th>93</th>\n",
       "      <td>5.3054</td>\n",
       "      <td>1.98690</td>\n",
       "      <td>1</td>\n",
       "    </tr>\n",
       "    <tr>\n",
       "      <th>94</th>\n",
       "      <td>8.2934</td>\n",
       "      <td>0.14454</td>\n",
       "      <td>1</td>\n",
       "    </tr>\n",
       "    <tr>\n",
       "      <th>95</th>\n",
       "      <td>13.3940</td>\n",
       "      <td>9.05510</td>\n",
       "      <td>1</td>\n",
       "    </tr>\n",
       "    <tr>\n",
       "      <th>96</th>\n",
       "      <td>5.4369</td>\n",
       "      <td>0.61705</td>\n",
       "      <td>1</td>\n",
       "    </tr>\n",
       "  </tbody>\n",
       "</table>\n",
       "<p>97 rows × 3 columns</p>\n",
       "</div>"
      ],
      "text/plain": [
       "    Population    Profit  One_column\n",
       "0       6.1101  17.59200           1\n",
       "1       5.5277   9.13020           1\n",
       "2       8.5186  13.66200           1\n",
       "3       7.0032  11.85400           1\n",
       "4       5.8598   6.82330           1\n",
       "..         ...       ...         ...\n",
       "92      5.8707   7.20290           1\n",
       "93      5.3054   1.98690           1\n",
       "94      8.2934   0.14454           1\n",
       "95     13.3940   9.05510           1\n",
       "96      5.4369   0.61705           1\n",
       "\n",
       "[97 rows x 3 columns]"
      ]
     },
     "execution_count": 8,
     "metadata": {},
     "output_type": "execute_result"
    }
   ],
   "source": [
    "data"
   ]
  },
  {
   "cell_type": "markdown",
   "metadata": {},
   "source": [
    "## ***Exercise 4:***"
   ]
  },
  {
   "cell_type": "markdown",
   "metadata": {},
   "source": [
    "#### We need to separate our data into independent variables X (column 0,1) and our dependent variable y (col. 3). Check with the head function if your implementation is correct:"
   ]
  },
  {
   "cell_type": "code",
   "execution_count": 9,
   "metadata": {},
   "outputs": [],
   "source": [
    "X = pd.DataFrame(data['Population'])\n",
    "col=pd.DataFrame(np.ones((97,1)))\n",
    "data.insert(0,'Ones',col)\n",
    "X=data[['Ones','Population']]"
   ]
  },
  {
   "cell_type": "code",
   "execution_count": 10,
   "metadata": {},
   "outputs": [
    {
     "data": {
      "text/html": [
       "<div>\n",
       "<style scoped>\n",
       "    .dataframe tbody tr th:only-of-type {\n",
       "        vertical-align: middle;\n",
       "    }\n",
       "\n",
       "    .dataframe tbody tr th {\n",
       "        vertical-align: top;\n",
       "    }\n",
       "\n",
       "    .dataframe thead th {\n",
       "        text-align: right;\n",
       "    }\n",
       "</style>\n",
       "<table border=\"1\" class=\"dataframe\">\n",
       "  <thead>\n",
       "    <tr style=\"text-align: right;\">\n",
       "      <th></th>\n",
       "      <th>Ones</th>\n",
       "      <th>Population</th>\n",
       "    </tr>\n",
       "  </thead>\n",
       "  <tbody>\n",
       "    <tr>\n",
       "      <th>0</th>\n",
       "      <td>1.0</td>\n",
       "      <td>6.1101</td>\n",
       "    </tr>\n",
       "    <tr>\n",
       "      <th>1</th>\n",
       "      <td>1.0</td>\n",
       "      <td>5.5277</td>\n",
       "    </tr>\n",
       "    <tr>\n",
       "      <th>2</th>\n",
       "      <td>1.0</td>\n",
       "      <td>8.5186</td>\n",
       "    </tr>\n",
       "    <tr>\n",
       "      <th>3</th>\n",
       "      <td>1.0</td>\n",
       "      <td>7.0032</td>\n",
       "    </tr>\n",
       "    <tr>\n",
       "      <th>4</th>\n",
       "      <td>1.0</td>\n",
       "      <td>5.8598</td>\n",
       "    </tr>\n",
       "    <tr>\n",
       "      <th>...</th>\n",
       "      <td>...</td>\n",
       "      <td>...</td>\n",
       "    </tr>\n",
       "    <tr>\n",
       "      <th>92</th>\n",
       "      <td>1.0</td>\n",
       "      <td>5.8707</td>\n",
       "    </tr>\n",
       "    <tr>\n",
       "      <th>93</th>\n",
       "      <td>1.0</td>\n",
       "      <td>5.3054</td>\n",
       "    </tr>\n",
       "    <tr>\n",
       "      <th>94</th>\n",
       "      <td>1.0</td>\n",
       "      <td>8.2934</td>\n",
       "    </tr>\n",
       "    <tr>\n",
       "      <th>95</th>\n",
       "      <td>1.0</td>\n",
       "      <td>13.3940</td>\n",
       "    </tr>\n",
       "    <tr>\n",
       "      <th>96</th>\n",
       "      <td>1.0</td>\n",
       "      <td>5.4369</td>\n",
       "    </tr>\n",
       "  </tbody>\n",
       "</table>\n",
       "<p>97 rows × 2 columns</p>\n",
       "</div>"
      ],
      "text/plain": [
       "    Ones  Population\n",
       "0    1.0      6.1101\n",
       "1    1.0      5.5277\n",
       "2    1.0      8.5186\n",
       "3    1.0      7.0032\n",
       "4    1.0      5.8598\n",
       "..   ...         ...\n",
       "92   1.0      5.8707\n",
       "93   1.0      5.3054\n",
       "94   1.0      8.2934\n",
       "95   1.0     13.3940\n",
       "96   1.0      5.4369\n",
       "\n",
       "[97 rows x 2 columns]"
      ]
     },
     "execution_count": 10,
     "metadata": {},
     "output_type": "execute_result"
    }
   ],
   "source": [
    "X"
   ]
  },
  {
   "cell_type": "code",
   "execution_count": 11,
   "metadata": {},
   "outputs": [],
   "source": [
    "Y = pd.DataFrame(data['Profit'])"
   ]
  },
  {
   "cell_type": "code",
   "execution_count": 12,
   "metadata": {},
   "outputs": [
    {
     "data": {
      "text/html": [
       "<div>\n",
       "<style scoped>\n",
       "    .dataframe tbody tr th:only-of-type {\n",
       "        vertical-align: middle;\n",
       "    }\n",
       "\n",
       "    .dataframe tbody tr th {\n",
       "        vertical-align: top;\n",
       "    }\n",
       "\n",
       "    .dataframe thead th {\n",
       "        text-align: right;\n",
       "    }\n",
       "</style>\n",
       "<table border=\"1\" class=\"dataframe\">\n",
       "  <thead>\n",
       "    <tr style=\"text-align: right;\">\n",
       "      <th></th>\n",
       "      <th>Profit</th>\n",
       "    </tr>\n",
       "  </thead>\n",
       "  <tbody>\n",
       "    <tr>\n",
       "      <th>0</th>\n",
       "      <td>17.59200</td>\n",
       "    </tr>\n",
       "    <tr>\n",
       "      <th>1</th>\n",
       "      <td>9.13020</td>\n",
       "    </tr>\n",
       "    <tr>\n",
       "      <th>2</th>\n",
       "      <td>13.66200</td>\n",
       "    </tr>\n",
       "    <tr>\n",
       "      <th>3</th>\n",
       "      <td>11.85400</td>\n",
       "    </tr>\n",
       "    <tr>\n",
       "      <th>4</th>\n",
       "      <td>6.82330</td>\n",
       "    </tr>\n",
       "    <tr>\n",
       "      <th>...</th>\n",
       "      <td>...</td>\n",
       "    </tr>\n",
       "    <tr>\n",
       "      <th>92</th>\n",
       "      <td>7.20290</td>\n",
       "    </tr>\n",
       "    <tr>\n",
       "      <th>93</th>\n",
       "      <td>1.98690</td>\n",
       "    </tr>\n",
       "    <tr>\n",
       "      <th>94</th>\n",
       "      <td>0.14454</td>\n",
       "    </tr>\n",
       "    <tr>\n",
       "      <th>95</th>\n",
       "      <td>9.05510</td>\n",
       "    </tr>\n",
       "    <tr>\n",
       "      <th>96</th>\n",
       "      <td>0.61705</td>\n",
       "    </tr>\n",
       "  </tbody>\n",
       "</table>\n",
       "<p>97 rows × 1 columns</p>\n",
       "</div>"
      ],
      "text/plain": [
       "      Profit\n",
       "0   17.59200\n",
       "1    9.13020\n",
       "2   13.66200\n",
       "3   11.85400\n",
       "4    6.82330\n",
       "..       ...\n",
       "92   7.20290\n",
       "93   1.98690\n",
       "94   0.14454\n",
       "95   9.05510\n",
       "96   0.61705\n",
       "\n",
       "[97 rows x 1 columns]"
      ]
     },
     "execution_count": 12,
     "metadata": {},
     "output_type": "execute_result"
    }
   ],
   "source": [
    "Y"
   ]
  },
  {
   "cell_type": "markdown",
   "metadata": {},
   "source": [
    "##### Finally, we’re going to convert our data frames to numpy matrices and instantiate a parameter matirx. We also need to initialise parameter θ. "
   ]
  },
  {
   "cell_type": "code",
   "execution_count": 13,
   "metadata": {},
   "outputs": [],
   "source": [
    "#X.values"
   ]
  },
  {
   "cell_type": "code",
   "execution_count": 14,
   "metadata": {},
   "outputs": [],
   "source": [
    "#Y.values"
   ]
  },
  {
   "cell_type": "code",
   "execution_count": 15,
   "metadata": {},
   "outputs": [],
   "source": [
    "theta_matrix = np.matrix(np.array([0,0]))\n",
    "X_matrix = np.matrix(X.values)\n",
    "Y_matrix = np.matrix(Y.values)\n"
   ]
  },
  {
   "cell_type": "code",
   "execution_count": 16,
   "metadata": {},
   "outputs": [],
   "source": [
    "#theta_matrix"
   ]
  },
  {
   "cell_type": "code",
   "execution_count": 17,
   "metadata": {},
   "outputs": [],
   "source": [
    "#X_matrix"
   ]
  },
  {
   "cell_type": "code",
   "execution_count": 18,
   "metadata": {},
   "outputs": [],
   "source": [
    "#Y_matrix"
   ]
  },
  {
   "cell_type": "markdown",
   "metadata": {},
   "source": [
    "## ***Exercise 5:***"
   ]
  },
  {
   "cell_type": "markdown",
   "metadata": {},
   "source": [
    "#### The goal of linear regression is to find a straight line which accurately represents the relationship between population and profit. This is called the hypothesis function and it’s formulated as 𝑓(𝑥)→𝐑: "
   ]
  },
  {
   "cell_type": "markdown",
   "metadata": {},
   "source": [
    "$$J(\\theta) = \\frac{1}{2m} \\sum^{m}_{i=1}(f(x^i)- y^i)^2$$\n",
    "\n",
    "Where $f(x^i)$ is the *hypothesis function* at a given point $x^i$, and $y^i$ is the actual value from the dataset.\n",
    "\n",
    "A General formula of a *hypothesis function* is as follows:\n",
    "\n",
    "$$f(x) = \\theta_0 + \\theta_1  x_1 + \\theta_2 x_2 + ... \\theta_n x_n$$\n",
    "\n",
    "$\\theta$ is the **vector of model parameters**.\n",
    "\n",
    "$m$ is the **amount of considered points**\n",
    "\n",
    "$x$ corresponds to a **feature matrix**"
   ]
  },
  {
   "cell_type": "markdown",
   "metadata": {},
   "source": [
    "## ***Exercise 6:***"
   ]
  },
  {
   "cell_type": "markdown",
   "metadata": {},
   "source": [
    "####  The cost function evaluates the quality of our model by calculating the error between our model’s prediction for a data point, using the model parameters, and the actual data point.\n",
    "\n",
    "#### Please write the cost function based on X,y and parameter θ."
   ]
  },
  {
   "cell_type": "code",
   "execution_count": 19,
   "metadata": {},
   "outputs": [],
   "source": [
    "def computeCostFunction(X,Y,theta,m=0):\n",
    "    \"\"\"J(\\theta)\n",
    "    X - np.matrix vector\n",
    "    y - np.matrix vector\n",
    "    theta - model parameters \n",
    "    \"\"\"\n",
    "    if m == 0:\n",
    "        m = len(X)\n",
    "    return 1/(2*m)*sum((np.power((X@theta.T-Y), 2)))"
   ]
  },
  {
   "cell_type": "markdown",
   "metadata": {},
   "source": [
    "# Exercise 7 (Gradient descend method)"
   ]
  },
  {
   "cell_type": "markdown",
   "metadata": {},
   "source": [
    "### Test the cost function with (θ=0). \n",
    "\n",
    "**Output: 32.07 (may differ…)**"
   ]
  },
  {
   "cell_type": "code",
   "execution_count": 20,
   "metadata": {},
   "outputs": [],
   "source": [
    "theta_matrix = np.matrix(np.array([0,0]))"
   ]
  },
  {
   "cell_type": "code",
   "execution_count": 21,
   "metadata": {},
   "outputs": [
    {
     "data": {
      "text/plain": [
       "matrix([[32.07273388]])"
      ]
     },
     "execution_count": 21,
     "metadata": {},
     "output_type": "execute_result"
    }
   ],
   "source": [
    "computeCostFunction(X_matrix, Y_matrix, theta_matrix)"
   ]
  },
  {
   "cell_type": "markdown",
   "metadata": {},
   "source": [
    "# Exercise 8"
   ]
  },
  {
   "cell_type": "markdown",
   "metadata": {},
   "source": [
    "### Please implement the gradient descent algorithm:"
   ]
  },
  {
   "cell_type": "markdown",
   "metadata": {},
   "source": [
    "Gradient descent method\n",
    "\n",
    "Since our hypothesis is based on the model parameters θ, we must somehow adjust them to minimize our cost function $J(\\theta)$: "
   ]
  },
  {
   "cell_type": "code",
   "execution_count": 22,
   "metadata": {},
   "outputs": [],
   "source": [
    "theta_matrix = np.matrix(np.array([0,0]))"
   ]
  },
  {
   "cell_type": "code",
   "execution_count": 23,
   "metadata": {},
   "outputs": [],
   "source": [
    "alpha=0.01\n",
    "it=1000"
   ]
  },
  {
   "cell_type": "code",
   "execution_count": 24,
   "metadata": {},
   "outputs": [],
   "source": [
    "def Gradient_descent(X,Y,theta,alpha,it,m=0):\n",
    "    \"\"\" \n",
    "    \n",
    "    \"\"\"\n",
    "    if m == 0:\n",
    "        m = len(X) \n",
    "    theta_1=theta\n",
    "    costs=np.zeros(shape=(it,1)) #Init the costs matrix\n",
    "    for i in range(it):\n",
    "        theta_1=theta_1-alpha*sum((X@theta_1.T-Y).T*X)/len(X)\n",
    "        costs[i]=computeCostFunction(X,Y,theta_1)\n",
    "    return (theta_1, computeCostFunction(X,Y,theta_1,Y.shape[0]), costs)"
   ]
  },
  {
   "cell_type": "code",
   "execution_count": 25,
   "metadata": {},
   "outputs": [],
   "source": [
    "theta_optimal,cost_optimal,costs = Gradient_descent(X_matrix, Y_matrix, theta_matrix, alpha, it)"
   ]
  },
  {
   "cell_type": "markdown",
   "metadata": {},
   "source": [
    "# Exercise 9"
   ]
  },
  {
   "cell_type": "markdown",
   "metadata": {},
   "source": [
    "### Please calculate the optimal parameters for the dataset."
   ]
  },
  {
   "cell_type": "markdown",
   "metadata": {},
   "source": [
    "### Optimal theta values:"
   ]
  },
  {
   "cell_type": "code",
   "execution_count": 26,
   "metadata": {},
   "outputs": [
    {
     "name": "stdout",
     "output_type": "stream",
     "text": [
      "[[-3.24140214  1.1272942 ]]\n"
     ]
    }
   ],
   "source": [
    "print(theta_optimal) #[[slope, intercept]]"
   ]
  },
  {
   "cell_type": "markdown",
   "metadata": {},
   "source": [
    "# Exercise 10"
   ]
  },
  {
   "cell_type": "markdown",
   "metadata": {},
   "source": [
    "### Please calculate the cost function for the given (zad.8) θ."
   ]
  },
  {
   "cell_type": "markdown",
   "metadata": {},
   "source": [
    "### Optimal cost for obtained parameters:"
   ]
  },
  {
   "cell_type": "code",
   "execution_count": 27,
   "metadata": {},
   "outputs": [
    {
     "name": "stdout",
     "output_type": "stream",
     "text": [
      "[[4.5159555]]\n"
     ]
    }
   ],
   "source": [
    "print(cost_optimal) # Sum of squared residuals"
   ]
  },
  {
   "cell_type": "markdown",
   "metadata": {},
   "source": [
    "### Iteration values:"
   ]
  },
  {
   "cell_type": "code",
   "execution_count": 28,
   "metadata": {},
   "outputs": [
    {
     "name": "stdout",
     "output_type": "stream",
     "text": [
      "[[6.73719046]\n",
      " [5.93159357]\n",
      " [5.90115471]\n",
      " [5.89522859]\n",
      " [5.89009494]\n",
      " [5.88500416]\n",
      " [5.87993248]\n",
      " [5.87487909]\n",
      " [5.86984391]\n",
      " [5.86482687]\n",
      " [5.85982789]\n",
      " [5.85484692]\n",
      " [5.84988389]\n",
      " [5.84493874]\n",
      " [5.8400114 ]\n",
      " [5.83510181]\n",
      " [5.8302099 ]\n",
      " [5.82533562]\n",
      " [5.82047889]\n",
      " [5.81563965]\n",
      " [5.81081784]\n",
      " [5.8060134 ]\n",
      " [5.80122627]\n",
      " [5.79645638]\n",
      " [5.79170367]\n",
      " [5.78696808]\n",
      " [5.78224955]\n",
      " [5.77754801]\n",
      " [5.77286341]\n",
      " [5.76819568]\n",
      " [5.76354477]\n",
      " [5.75891061]\n",
      " [5.75429313]\n",
      " [5.7496923 ]\n",
      " [5.74510803]\n",
      " [5.74054027]\n",
      " [5.73598897]\n",
      " [5.73145406]\n",
      " [5.72693549]\n",
      " [5.72243319]\n",
      " [5.71794711]\n",
      " [5.71347718]\n",
      " [5.70902336]\n",
      " [5.70458558]\n",
      " [5.70016379]\n",
      " [5.69575792]\n",
      " [5.69136792]\n",
      " [5.68699373]\n",
      " [5.6826353 ]\n",
      " [5.67829257]\n",
      " [5.67396548]\n",
      " [5.66965398]\n",
      " [5.665358  ]\n",
      " [5.6610775 ]\n",
      " [5.65681242]\n",
      " [5.6525627 ]\n",
      " [5.64832829]\n",
      " [5.64410913]\n",
      " [5.63990517]\n",
      " [5.63571635]\n",
      " [5.63154261]\n",
      " [5.62738391]\n",
      " [5.6232402 ]\n",
      " [5.6191114 ]\n",
      " [5.61499748]\n",
      " [5.61089837]\n",
      " [5.60681403]\n",
      " [5.60274441]\n",
      " [5.59868944]\n",
      " [5.59464907]\n",
      " [5.59062326]\n",
      " [5.58661195]\n",
      " [5.58261509]\n",
      " [5.57863263]\n",
      " [5.57466451]\n",
      " [5.57071068]\n",
      " [5.56677109]\n",
      " [5.5628457 ]\n",
      " [5.55893444]\n",
      " [5.55503727]\n",
      " [5.55115414]\n",
      " [5.547285  ]\n",
      " [5.54342979]\n",
      " [5.53958847]\n",
      " [5.53576098]\n",
      " [5.53194728]\n",
      " [5.52814732]\n",
      " [5.52436105]\n",
      " [5.52058841]\n",
      " [5.51682936]\n",
      " [5.51308385]\n",
      " [5.50935183]\n",
      " [5.50563326]\n",
      " [5.50192808]\n",
      " [5.49823624]\n",
      " [5.49455771]\n",
      " [5.49089242]\n",
      " [5.48724033]\n",
      " [5.4836014 ]\n",
      " [5.47997558]\n",
      " [5.47636282]\n",
      " [5.47276307]\n",
      " [5.46917628]\n",
      " [5.46560242]\n",
      " [5.46204143]\n",
      " [5.45849326]\n",
      " [5.45495788]\n",
      " [5.45143522]\n",
      " [5.44792526]\n",
      " [5.44442794]\n",
      " [5.44094322]\n",
      " [5.43747105]\n",
      " [5.43401138]\n",
      " [5.43056418]\n",
      " [5.42712939]\n",
      " [5.42370698]\n",
      " [5.42029689]\n",
      " [5.41689909]\n",
      " [5.41351352]\n",
      " [5.41014015]\n",
      " [5.40677893]\n",
      " [5.40342982]\n",
      " [5.40009277]\n",
      " [5.39676774]\n",
      " [5.39345469]\n",
      " [5.39015357]\n",
      " [5.38686434]\n",
      " [5.38358696]\n",
      " [5.38032138]\n",
      " [5.37706756]\n",
      " [5.37382547]\n",
      " [5.37059505]\n",
      " [5.36737627]\n",
      " [5.36416908]\n",
      " [5.36097345]\n",
      " [5.35778933]\n",
      " [5.35461667]\n",
      " [5.35145544]\n",
      " [5.3483056 ]\n",
      " [5.34516711]\n",
      " [5.34203991]\n",
      " [5.33892399]\n",
      " [5.33581928]\n",
      " [5.33272576]\n",
      " [5.32964339]\n",
      " [5.32657211]\n",
      " [5.3235119 ]\n",
      " [5.32046271]\n",
      " [5.3174245 ]\n",
      " [5.31439724]\n",
      " [5.31138088]\n",
      " [5.30837538]\n",
      " [5.30538071]\n",
      " [5.30239683]\n",
      " [5.2994237 ]\n",
      " [5.29646127]\n",
      " [5.29350951]\n",
      " [5.29056839]\n",
      " [5.28763786]\n",
      " [5.28471789]\n",
      " [5.28180843]\n",
      " [5.27890945]\n",
      " [5.27602092]\n",
      " [5.27314279]\n",
      " [5.27027503]\n",
      " [5.26741759]\n",
      " [5.26457045]\n",
      " [5.26173356]\n",
      " [5.2589069 ]\n",
      " [5.25609041]\n",
      " [5.25328407]\n",
      " [5.25048783]\n",
      " [5.24770167]\n",
      " [5.24492555]\n",
      " [5.24215942]\n",
      " [5.23940326]\n",
      " [5.23665702]\n",
      " [5.23392068]\n",
      " [5.23119419]\n",
      " [5.22847752]\n",
      " [5.22577064]\n",
      " [5.22307351]\n",
      " [5.22038609]\n",
      " [5.21770835]\n",
      " [5.21504026]\n",
      " [5.21238178]\n",
      " [5.20973288]\n",
      " [5.20709351]\n",
      " [5.20446365]\n",
      " [5.20184327]\n",
      " [5.19923232]\n",
      " [5.19663078]\n",
      " [5.19403861]\n",
      " [5.19145577]\n",
      " [5.18888224]\n",
      " [5.18631798]\n",
      " [5.18376295]\n",
      " [5.18121713]\n",
      " [5.17868048]\n",
      " [5.17615296]\n",
      " [5.17363455]\n",
      " [5.17112521]\n",
      " [5.16862491]\n",
      " [5.16613361]\n",
      " [5.16365129]\n",
      " [5.16117791]\n",
      " [5.15871344]\n",
      " [5.15625784]\n",
      " [5.15381109]\n",
      " [5.15137315]\n",
      " [5.148944  ]\n",
      " [5.14652359]\n",
      " [5.1441119 ]\n",
      " [5.1417089 ]\n",
      " [5.13931455]\n",
      " [5.13692883]\n",
      " [5.1345517 ]\n",
      " [5.13218314]\n",
      " [5.1298231 ]\n",
      " [5.12747157]\n",
      " [5.1251285 ]\n",
      " [5.12279388]\n",
      " [5.12046766]\n",
      " [5.11814983]\n",
      " [5.11584034]\n",
      " [5.11353917]\n",
      " [5.11124629]\n",
      " [5.10896167]\n",
      " [5.10668527]\n",
      " [5.10441708]\n",
      " [5.10215706]\n",
      " [5.09990518]\n",
      " [5.0976614 ]\n",
      " [5.09542571]\n",
      " [5.09319808]\n",
      " [5.09097846]\n",
      " [5.08876685]\n",
      " [5.08656319]\n",
      " [5.08436748]\n",
      " [5.08217967]\n",
      " [5.07999975]\n",
      " [5.07782768]\n",
      " [5.07566343]\n",
      " [5.07350697]\n",
      " [5.07135828]\n",
      " [5.06921734]\n",
      " [5.0670841 ]\n",
      " [5.06495855]\n",
      " [5.06284065]\n",
      " [5.06073039]\n",
      " [5.05862772]\n",
      " [5.05653263]\n",
      " [5.05444508]\n",
      " [5.05236505]\n",
      " [5.05029252]\n",
      " [5.04822745]\n",
      " [5.04616982]\n",
      " [5.0441196 ]\n",
      " [5.04207676]\n",
      " [5.04004129]\n",
      " [5.03801314]\n",
      " [5.0359923 ]\n",
      " [5.03397874]\n",
      " [5.03197243]\n",
      " [5.02997335]\n",
      " [5.02798147]\n",
      " [5.02599676]\n",
      " [5.0240192 ]\n",
      " [5.02204877]\n",
      " [5.02008543]\n",
      " [5.01812917]\n",
      " [5.01617995]\n",
      " [5.01423775]\n",
      " [5.01230255]\n",
      " [5.01037431]\n",
      " [5.00845303]\n",
      " [5.00653866]\n",
      " [5.00463119]\n",
      " [5.00273059]\n",
      " [5.00083684]\n",
      " [4.9989499 ]\n",
      " [4.99706977]\n",
      " [4.9951964 ]\n",
      " [4.99332979]\n",
      " [4.99146989]\n",
      " [4.9896167 ]\n",
      " [4.98777018]\n",
      " [4.98593031]\n",
      " [4.98409707]\n",
      " [4.98227043]\n",
      " [4.98045038]\n",
      " [4.97863687]\n",
      " [4.9768299 ]\n",
      " [4.97502944]\n",
      " [4.97323547]\n",
      " [4.97144795]\n",
      " [4.96966687]\n",
      " [4.96789221]\n",
      " [4.96612395]\n",
      " [4.96436205]\n",
      " [4.96260649]\n",
      " [4.96085726]\n",
      " [4.95911433]\n",
      " [4.95737768]\n",
      " [4.95564729]\n",
      " [4.95392312]\n",
      " [4.95220517]\n",
      " [4.95049341]\n",
      " [4.94878781]\n",
      " [4.94708835]\n",
      " [4.94539502]\n",
      " [4.94370778]\n",
      " [4.94202663]\n",
      " [4.94035152]\n",
      " [4.93868246]\n",
      " [4.9370194 ]\n",
      " [4.93536233]\n",
      " [4.93371123]\n",
      " [4.93206608]\n",
      " [4.93042686]\n",
      " [4.92879354]\n",
      " [4.9271661 ]\n",
      " [4.92554453]\n",
      " [4.92392879]\n",
      " [4.92231888]\n",
      " [4.92071476]\n",
      " [4.91911642]\n",
      " [4.91752384]\n",
      " [4.915937  ]\n",
      " [4.91435587]\n",
      " [4.91278043]\n",
      " [4.91121067]\n",
      " [4.90964657]\n",
      " [4.9080881 ]\n",
      " [4.90653524]\n",
      " [4.90498798]\n",
      " [4.90344629]\n",
      " [4.90191015]\n",
      " [4.90037954]\n",
      " [4.89885445]\n",
      " [4.89733485]\n",
      " [4.89582073]\n",
      " [4.89431206]\n",
      " [4.89280882]\n",
      " [4.891311  ]\n",
      " [4.88981857]\n",
      " [4.88833152]\n",
      " [4.88684982]\n",
      " [4.88537346]\n",
      " [4.88390242]\n",
      " [4.88243668]\n",
      " [4.88097622]\n",
      " [4.87952102]\n",
      " [4.87807106]\n",
      " [4.87662632]\n",
      " [4.87518678]\n",
      " [4.87375243]\n",
      " [4.87232325]\n",
      " [4.87089922]\n",
      " [4.86948031]\n",
      " [4.86806652]\n",
      " [4.86665782]\n",
      " [4.86525419]\n",
      " [4.86385562]\n",
      " [4.86246208]\n",
      " [4.86107357]\n",
      " [4.85969005]\n",
      " [4.85831152]\n",
      " [4.85693796]\n",
      " [4.85556934]\n",
      " [4.85420565]\n",
      " [4.85284687]\n",
      " [4.85149299]\n",
      " [4.85014399]\n",
      " [4.84879984]\n",
      " [4.84746054]\n",
      " [4.84612606]\n",
      " [4.84479638]\n",
      " [4.8434715 ]\n",
      " [4.84215138]\n",
      " [4.84083603]\n",
      " [4.83952541]\n",
      " [4.83821951]\n",
      " [4.83691831]\n",
      " [4.83562181]\n",
      " [4.83432997]\n",
      " [4.83304278]\n",
      " [4.83176023]\n",
      " [4.83048231]\n",
      " [4.82920898]\n",
      " [4.82794024]\n",
      " [4.82667607]\n",
      " [4.82541645]\n",
      " [4.82416138]\n",
      " [4.82291082]\n",
      " [4.82166476]\n",
      " [4.8204232 ]\n",
      " [4.8191861 ]\n",
      " [4.81795347]\n",
      " [4.81672527]\n",
      " [4.81550149]\n",
      " [4.81428213]\n",
      " [4.81306715]\n",
      " [4.81185656]\n",
      " [4.81065032]\n",
      " [4.80944843]\n",
      " [4.80825086]\n",
      " [4.80705761]\n",
      " [4.80586866]\n",
      " [4.80468399]\n",
      " [4.80350359]\n",
      " [4.80232744]\n",
      " [4.80115553]\n",
      " [4.79998784]\n",
      " [4.79882435]\n",
      " [4.79766505]\n",
      " [4.79650993]\n",
      " [4.79535897]\n",
      " [4.79421216]\n",
      " [4.79306948]\n",
      " [4.79193091]\n",
      " [4.79079644]\n",
      " [4.78966606]\n",
      " [4.78853976]\n",
      " [4.7874175 ]\n",
      " [4.7862993 ]\n",
      " [4.78518511]\n",
      " [4.78407495]\n",
      " [4.78296878]\n",
      " [4.78186659]\n",
      " [4.78076838]\n",
      " [4.77967412]\n",
      " [4.7785838 ]\n",
      " [4.77749741]\n",
      " [4.77641493]\n",
      " [4.77533635]\n",
      " [4.77426166]\n",
      " [4.77319084]\n",
      " [4.77212387]\n",
      " [4.77106075]\n",
      " [4.77000146]\n",
      " [4.76894598]\n",
      " [4.7678943 ]\n",
      " [4.76684642]\n",
      " [4.7658023 ]\n",
      " [4.76476195]\n",
      " [4.76372535]\n",
      " [4.76269247]\n",
      " [4.76166332]\n",
      " [4.76063788]\n",
      " [4.75961613]\n",
      " [4.75859806]\n",
      " [4.75758366]\n",
      " [4.75657291]\n",
      " [4.7555658 ]\n",
      " [4.75456232]\n",
      " [4.75356245]\n",
      " [4.75256619]\n",
      " [4.75157351]\n",
      " [4.75058441]\n",
      " [4.74959887]\n",
      " [4.74861688]\n",
      " [4.74763843]\n",
      " [4.7466635 ]\n",
      " [4.74569209]\n",
      " [4.74472417]\n",
      " [4.74375974]\n",
      " [4.74279878]\n",
      " [4.74184129]\n",
      " [4.74088724]\n",
      " [4.73993663]\n",
      " [4.73898945]\n",
      " [4.73804567]\n",
      " [4.7371053 ]\n",
      " [4.73616831]\n",
      " [4.7352347 ]\n",
      " [4.73430445]\n",
      " [4.73337755]\n",
      " [4.73245399]\n",
      " [4.73153376]\n",
      " [4.73061684]\n",
      " [4.72970322]\n",
      " [4.7287929 ]\n",
      " [4.72788585]\n",
      " [4.72698207]\n",
      " [4.72608155]\n",
      " [4.72518427]\n",
      " [4.72429022]\n",
      " [4.72339939]\n",
      " [4.72251177]\n",
      " [4.72162735]\n",
      " [4.72074611]\n",
      " [4.71986805]\n",
      " [4.71899315]\n",
      " [4.7181214 ]\n",
      " [4.71725279]\n",
      " [4.71638731]\n",
      " [4.71552495]\n",
      " [4.71466569]\n",
      " [4.71380953]\n",
      " [4.71295645]\n",
      " [4.71210645]\n",
      " [4.71125951]\n",
      " [4.71041561]\n",
      " [4.70957476]\n",
      " [4.70873694]\n",
      " [4.70790213]\n",
      " [4.70707033]\n",
      " [4.70624153]\n",
      " [4.70541571]\n",
      " [4.70459287]\n",
      " [4.70377299]\n",
      " [4.70295606]\n",
      " [4.70214208]\n",
      " [4.70133103]\n",
      " [4.7005229 ]\n",
      " [4.69971768]\n",
      " [4.69891536]\n",
      " [4.69811593]\n",
      " [4.69731938]\n",
      " [4.6965257 ]\n",
      " [4.69573487]\n",
      " [4.6949469 ]\n",
      " [4.69416177]\n",
      " [4.69337946]\n",
      " [4.69259997]\n",
      " [4.69182329]\n",
      " [4.6910494 ]\n",
      " [4.69027831]\n",
      " [4.68950999]\n",
      " [4.68874444]\n",
      " [4.68798164]\n",
      " [4.68722159]\n",
      " [4.68646428]\n",
      " [4.6857097 ]\n",
      " [4.68495784]\n",
      " [4.68420868]\n",
      " [4.68346223]\n",
      " [4.68271846]\n",
      " [4.68197737]\n",
      " [4.68123895]\n",
      " [4.68050319]\n",
      " [4.67977008]\n",
      " [4.67903961]\n",
      " [4.67831177]\n",
      " [4.67758656]\n",
      " [4.67686395]\n",
      " [4.67614395]\n",
      " [4.67542654]\n",
      " [4.67471172]\n",
      " [4.67399947]\n",
      " [4.67328979]\n",
      " [4.67258266]\n",
      " [4.67187808]\n",
      " [4.67117604]\n",
      " [4.67047652]\n",
      " [4.66977953]\n",
      " [4.66908504]\n",
      " [4.66839306]\n",
      " [4.66770357]\n",
      " [4.66701656]\n",
      " [4.66633203]\n",
      " [4.66564997]\n",
      " [4.66497036]\n",
      " [4.6642932 ]\n",
      " [4.66361847]\n",
      " [4.66294618]\n",
      " [4.66227631]\n",
      " [4.66160885]\n",
      " [4.6609438 ]\n",
      " [4.66028114]\n",
      " [4.65962087]\n",
      " [4.65896298]\n",
      " [4.65830745]\n",
      " [4.65765429]\n",
      " [4.65700348]\n",
      " [4.65635502]\n",
      " [4.65570889]\n",
      " [4.65506509]\n",
      " [4.6544236 ]\n",
      " [4.65378443]\n",
      " [4.65314756]\n",
      " [4.65251298]\n",
      " [4.65188069]\n",
      " [4.65125068]\n",
      " [4.65062293]\n",
      " [4.64999745]\n",
      " [4.64937422]\n",
      " [4.64875324]\n",
      " [4.64813449]\n",
      " [4.64751797]\n",
      " [4.64690367]\n",
      " [4.64629158]\n",
      " [4.6456817 ]\n",
      " [4.64507402]\n",
      " [4.64446852]\n",
      " [4.64386521]\n",
      " [4.64326406]\n",
      " [4.64266509]\n",
      " [4.64206827]\n",
      " [4.6414736 ]\n",
      " [4.64088107]\n",
      " [4.64029068]\n",
      " [4.63970241]\n",
      " [4.63911626]\n",
      " [4.63853223]\n",
      " [4.63795029]\n",
      " [4.63737046]\n",
      " [4.63679271]\n",
      " [4.63621704]\n",
      " [4.63564345]\n",
      " [4.63507192]\n",
      " [4.63450245]\n",
      " [4.63393503]\n",
      " [4.63336966]\n",
      " [4.63280632]\n",
      " [4.63224501]\n",
      " [4.63168573]\n",
      " [4.63112845]\n",
      " [4.63057319]\n",
      " [4.63001992]\n",
      " [4.62946865]\n",
      " [4.62891937]\n",
      " [4.62837206]\n",
      " [4.62782672]\n",
      " [4.62728335]\n",
      " [4.62674193]\n",
      " [4.62620247]\n",
      " [4.62566495]\n",
      " [4.62512936]\n",
      " [4.62459571]\n",
      " [4.62406397]\n",
      " [4.62353415]\n",
      " [4.62300624]\n",
      " [4.62248023]\n",
      " [4.62195612]\n",
      " [4.62143389]\n",
      " [4.62091355]\n",
      " [4.62039507]\n",
      " [4.61987847]\n",
      " [4.61936373]\n",
      " [4.61885084]\n",
      " [4.6183398 ]\n",
      " [4.6178306 ]\n",
      " [4.61732323]\n",
      " [4.61681769]\n",
      " [4.61631397]\n",
      " [4.61581207]\n",
      " [4.61531197]\n",
      " [4.61481368]\n",
      " [4.61431718]\n",
      " [4.61382246]\n",
      " [4.61332954]\n",
      " [4.61283838]\n",
      " [4.612349  ]\n",
      " [4.61186137]\n",
      " [4.61137551]\n",
      " [4.61089139]\n",
      " [4.61040902]\n",
      " [4.60992838]\n",
      " [4.60944948]\n",
      " [4.6089723 ]\n",
      " [4.60849684]\n",
      " [4.6080231 ]\n",
      " [4.60755106]\n",
      " [4.60708071]\n",
      " [4.60661207]\n",
      " [4.60614511]\n",
      " [4.60567983]\n",
      " [4.60521623]\n",
      " [4.6047543 ]\n",
      " [4.60429404]\n",
      " [4.60383543]\n",
      " [4.60337847]\n",
      " [4.60292316]\n",
      " [4.60246949]\n",
      " [4.60201745]\n",
      " [4.60156704]\n",
      " [4.60111826]\n",
      " [4.60067109]\n",
      " [4.60022553]\n",
      " [4.59978157]\n",
      " [4.59933922]\n",
      " [4.59889846]\n",
      " [4.59845928]\n",
      " [4.59802169]\n",
      " [4.59758567]\n",
      " [4.59715123]\n",
      " [4.59671835]\n",
      " [4.59628702]\n",
      " [4.59585726]\n",
      " [4.59542904]\n",
      " [4.59500236]\n",
      " [4.59457722]\n",
      " [4.59415361]\n",
      " [4.59373152]\n",
      " [4.59331096]\n",
      " [4.59289191]\n",
      " [4.59247437]\n",
      " [4.59205834]\n",
      " [4.5916438 ]\n",
      " [4.59123076]\n",
      " [4.5908192 ]\n",
      " [4.59040913]\n",
      " [4.59000053]\n",
      " [4.58959341]\n",
      " [4.58918775]\n",
      " [4.58878355]\n",
      " [4.58838081]\n",
      " [4.58797952]\n",
      " [4.58757968]\n",
      " [4.58718127]\n",
      " [4.5867843 ]\n",
      " [4.58638876]\n",
      " [4.58599465]\n",
      " [4.58560195]\n",
      " [4.58521067]\n",
      " [4.5848208 ]\n",
      " [4.58443233]\n",
      " [4.58404526]\n",
      " [4.58365959]\n",
      " [4.58327531]\n",
      " [4.5828924 ]\n",
      " [4.58251088]\n",
      " [4.58213074]\n",
      " [4.58175196]\n",
      " [4.58137454]\n",
      " [4.58099849]\n",
      " [4.58062379]\n",
      " [4.58025044]\n",
      " [4.57987844]\n",
      " [4.57950777]\n",
      " [4.57913844]\n",
      " [4.57877044]\n",
      " [4.57840377]\n",
      " [4.57803841]\n",
      " [4.57767437]\n",
      " [4.57731165]\n",
      " [4.57695023]\n",
      " [4.57659011]\n",
      " [4.57623129]\n",
      " [4.57587376]\n",
      " [4.57551752]\n",
      " [4.57516256]\n",
      " [4.57480888]\n",
      " [4.57445648]\n",
      " [4.57410534]\n",
      " [4.57375547]\n",
      " [4.57340686]\n",
      " [4.57305951]\n",
      " [4.5727134 ]\n",
      " [4.57236854]\n",
      " [4.57202493]\n",
      " [4.57168255]\n",
      " [4.57134141]\n",
      " [4.57100149]\n",
      " [4.5706628 ]\n",
      " [4.57032533]\n",
      " [4.56998908]\n",
      " [4.56965403]\n",
      " [4.56932019]\n",
      " [4.56898756]\n",
      " [4.56865612]\n",
      " [4.56832588]\n",
      " [4.56799682]\n",
      " [4.56766896]\n",
      " [4.56734227]\n",
      " [4.56701676]\n",
      " [4.56669242]\n",
      " [4.56636925]\n",
      " [4.56604724]\n",
      " [4.5657264 ]\n",
      " [4.56540671]\n",
      " [4.56508817]\n",
      " [4.56477078]\n",
      " [4.56445453]\n",
      " [4.56413942]\n",
      " [4.56382544]\n",
      " [4.5635126 ]\n",
      " [4.56320088]\n",
      " [4.56289029]\n",
      " [4.56258082]\n",
      " [4.56227246]\n",
      " [4.56196521]\n",
      " [4.56165906]\n",
      " [4.56135402]\n",
      " [4.56105008]\n",
      " [4.56074723]\n",
      " [4.56044548]\n",
      " [4.56014481]\n",
      " [4.55984522]\n",
      " [4.55954672]\n",
      " [4.55924929]\n",
      " [4.55895293]\n",
      " [4.55865763]\n",
      " [4.5583634 ]\n",
      " [4.55807023]\n",
      " [4.55777812]\n",
      " [4.55748706]\n",
      " [4.55719705]\n",
      " [4.55690808]\n",
      " [4.55662015]\n",
      " [4.55633326]\n",
      " [4.5560474 ]\n",
      " [4.55576258]\n",
      " [4.55547878]\n",
      " [4.555196  ]\n",
      " [4.55491424]\n",
      " [4.55463349]\n",
      " [4.55435376]\n",
      " [4.55407503]\n",
      " [4.55379731]\n",
      " [4.55352058]\n",
      " [4.55324486]\n",
      " [4.55297012]\n",
      " [4.55269638]\n",
      " [4.55242362]\n",
      " [4.55215185]\n",
      " [4.55188105]\n",
      " [4.55161123]\n",
      " [4.55134239]\n",
      " [4.55107451]\n",
      " [4.55080759]\n",
      " [4.55054164]\n",
      " [4.55027664]\n",
      " [4.5500126 ]\n",
      " [4.54974951]\n",
      " [4.54948737]\n",
      " [4.54922617]\n",
      " [4.54896591]\n",
      " [4.54870659]\n",
      " [4.5484482 ]\n",
      " [4.54819075]\n",
      " [4.54793422]\n",
      " [4.54767862]\n",
      " [4.54742393]\n",
      " [4.54717017]\n",
      " [4.54691731]\n",
      " [4.54666537]\n",
      " [4.54641434]\n",
      " [4.54616421]\n",
      " [4.54591498]\n",
      " [4.54566665]\n",
      " [4.54541921]\n",
      " [4.54517267]\n",
      " [4.54492701]\n",
      " [4.54468224]\n",
      " [4.54443835]\n",
      " [4.54419534]\n",
      " [4.5439532 ]\n",
      " [4.54371194]\n",
      " [4.54347154]\n",
      " [4.54323201]\n",
      " [4.54299334]\n",
      " [4.54275554]\n",
      " [4.54251859]\n",
      " [4.54228249]\n",
      " [4.54204724]\n",
      " [4.54181284]\n",
      " [4.54157929]\n",
      " [4.54134657]\n",
      " [4.5411147 ]\n",
      " [4.54088366]\n",
      " [4.54065345]\n",
      " [4.54042407]\n",
      " [4.54019552]\n",
      " [4.53996779]\n",
      " [4.53974088]\n",
      " [4.53951478]\n",
      " [4.53928951]\n",
      " [4.53906504]\n",
      " [4.53884138]\n",
      " [4.53861853]\n",
      " [4.53839648]\n",
      " [4.53817523]\n",
      " [4.53795478]\n",
      " [4.53773512]\n",
      " [4.53751625]\n",
      " [4.53729817]\n",
      " [4.53708088]\n",
      " [4.53686437]\n",
      " [4.53664864]\n",
      " [4.53643368]\n",
      " [4.5362195 ]\n",
      " [4.5360061 ]\n",
      " [4.53579346]\n",
      " [4.53558158]\n",
      " [4.53537047]\n",
      " [4.53516012]\n",
      " [4.53495053]\n",
      " [4.53474169]\n",
      " [4.53453361]\n",
      " [4.53432627]\n",
      " [4.53411968]\n",
      " [4.53391384]\n",
      " [4.53370873]\n",
      " [4.53350437]\n",
      " [4.53330074]\n",
      " [4.53309784]\n",
      " [4.53289568]\n",
      " [4.53269424]\n",
      " [4.53249353]\n",
      " [4.53229355]\n",
      " [4.53209428]\n",
      " [4.53189573]\n",
      " [4.53169789]\n",
      " [4.53150077]\n",
      " [4.53130436]\n",
      " [4.53110866]\n",
      " [4.53091366]\n",
      " [4.53071936]\n",
      " [4.53052576]\n",
      " [4.53033286]\n",
      " [4.53014066]\n",
      " [4.52994915]\n",
      " [4.52975832]\n",
      " [4.52956819]\n",
      " [4.52937874]\n",
      " [4.52918997]\n",
      " [4.52900188]\n",
      " [4.52881447]\n",
      " [4.52862773]\n",
      " [4.52844167]\n",
      " [4.52825628]\n",
      " [4.52807155]\n",
      " [4.52788749]\n",
      " [4.52770409]\n",
      " [4.52752136]\n",
      " [4.52733928]\n",
      " [4.52715786]\n",
      " [4.52697709]\n",
      " [4.52679697]\n",
      " [4.5266175 ]\n",
      " [4.52643868]\n",
      " [4.5262605 ]\n",
      " [4.52608297]\n",
      " [4.52590607]\n",
      " [4.52572981]\n",
      " [4.52555418]\n",
      " [4.52537919]\n",
      " [4.52520483]\n",
      " [4.52503109]\n",
      " [4.52485799]\n",
      " [4.5246855 ]\n",
      " [4.52451364]\n",
      " [4.52434239]\n",
      " [4.52417177]\n",
      " [4.52400175]\n",
      " [4.52383235]\n",
      " [4.52366356]\n",
      " [4.52349538]\n",
      " [4.5233278 ]\n",
      " [4.52316083]\n",
      " [4.52299446]\n",
      " [4.52282868]\n",
      " [4.52266351]\n",
      " [4.52249893]\n",
      " [4.52233494]\n",
      " [4.52217154]\n",
      " [4.52200874]\n",
      " [4.52184651]\n",
      " [4.52168488]\n",
      " [4.52152382]\n",
      " [4.52136335]\n",
      " [4.52120345]\n",
      " [4.52104413]\n",
      " [4.52088538]\n",
      " [4.5207272 ]\n",
      " [4.5205696 ]\n",
      " [4.52041256]\n",
      " [4.52025609]\n",
      " [4.52010018]\n",
      " [4.51994483]\n",
      " [4.51979004]\n",
      " [4.51963581]\n",
      " [4.51948214]\n",
      " [4.51932902]\n",
      " [4.51917645]\n",
      " [4.51902443]\n",
      " [4.51887295]\n",
      " [4.51872203]\n",
      " [4.51857164]\n",
      " [4.5184218 ]\n",
      " [4.5182725 ]\n",
      " [4.51812373]\n",
      " [4.51797551]\n",
      " [4.51782781]\n",
      " [4.51768065]\n",
      " [4.51753402]\n",
      " [4.51738791]\n",
      " [4.51724233]\n",
      " [4.51709728]\n",
      " [4.51695275]\n",
      " [4.51680874]\n",
      " [4.51666525]\n",
      " [4.51652227]\n",
      " [4.51637981]\n",
      " [4.51623786]\n",
      " [4.51609643]\n",
      " [4.5159555 ]]\n"
     ]
    }
   ],
   "source": [
    "print(costs)"
   ]
  },
  {
   "cell_type": "markdown",
   "metadata": {},
   "source": [
    "# Exercise 11"
   ]
  },
  {
   "cell_type": "markdown",
   "metadata": {},
   "source": [
    "### Plot the regression function and our dataset."
   ]
  },
  {
   "cell_type": "code",
   "execution_count": 29,
   "metadata": {},
   "outputs": [
    {
     "name": "stderr",
     "output_type": "stream",
     "text": [
      "D:\\ProgramData\\Anaconda3\\lib\\site-packages\\numpy\\core\\_asarray.py:136: VisibleDeprecationWarning: Creating an ndarray from ragged nested sequences (which is a list-or-tuple of lists-or-tuples-or ndarrays with different lengths or shapes) is deprecated. If you meant to do this, you must specify 'dtype=object' when creating the ndarray\n",
      "  return array(a, dtype, copy=False, order=order, subok=True)\n"
     ]
    },
    {
     "data": {
      "image/png": "[encoded data removed]",
      "text/plain": [
       "<Figure size 432x288 with 1 Axes>"
      ]
     },
     "metadata": {
      "needs_background": "light"
     },
     "output_type": "display_data"
    }
   ],
   "source": [
    "plt.figure()\n",
    "plt.title('Dataset with regression line')\n",
    "plt.xlabel('Population')\n",
    "plt.ylabel('Profit')\n",
    "x_1=0\n",
    "x_2=22.5\n",
    "y_1=float(theta_optimal[:,0])+x_1*float(theta_optimal[:,1])\n",
    "y_2=float(theta_optimal[:,0])+x_2*theta_optimal[:,1]\n",
    "plt.plot(X_matrix[:,1],Y_matrix[:,0],'b.')\n",
    "plt.plot([x_1,x_2],[y_1,y_2],'r')\n",
    "plt.show()"
   ]
  },
  {
   "cell_type": "markdown",
   "metadata": {},
   "source": [
    "# Exercise 12"
   ]
  },
  {
   "cell_type": "markdown",
   "metadata": {},
   "source": [
    "### Plot the relationship between the cost function and number of iterations."
   ]
  },
  {
   "cell_type": "code",
   "execution_count": 30,
   "metadata": {
    "scrolled": true
   },
   "outputs": [
    {
     "data": {
      "text/plain": [
       "[<matplotlib.lines.Line2D at 0x21deffaa648>]"
      ]
     },
     "execution_count": 30,
     "metadata": {},
     "output_type": "execute_result"
    },
    {
     "data": {
      "image/png": "[encoded data removed]",
      "text/plain": [
       "<Figure size 432x288 with 1 Axes>"
      ]
     },
     "metadata": {
      "needs_background": "light"
     },
     "output_type": "display_data"
    }
   ],
   "source": [
    "plt.figure()\n",
    "plt.title('Cost function value')\n",
    "plt.xlabel('Iteration count')\n",
    "plt.ylabel('Cost function value')\n",
    "plt.plot(range(len(costs)),costs,'b.')"
   ]
  },
  {
   "cell_type": "markdown",
   "metadata": {},
   "source": [
    "# -------------------------------------------- Linear regression with multiple variables"
   ]
  },
  {
   "cell_type": "markdown",
   "metadata": {},
   "source": [
    "#### To implement the linear regression algorithm for multiple variables we will use the housing database. \n",
    "\n",
    "We're given both the size of the house in square feet, and the number of bedrooms in the house.\n",
    "Previously implemented functions will be used to complete also this task. If implemented correctly - in the vectorized version - they will also work for this example.\n",
    "Read the data:"
   ]
  },
  {
   "cell_type": "markdown",
   "metadata": {},
   "source": []
  },
  {
   "cell_type": "markdown",
   "metadata": {},
   "source": [
    "### Loading used packages:"
   ]
  },
  {
   "cell_type": "code",
   "execution_count": 31,
   "metadata": {},
   "outputs": [],
   "source": [
    "import numpy as np\n",
    "import matplotlib.pyplot as plt\n",
    "from sklearn import datasets,linear_model"
   ]
  },
  {
   "cell_type": "code",
   "execution_count": 32,
   "metadata": {},
   "outputs": [
    {
     "data": {
      "text/plain": [
       "pandas.core.frame.DataFrame"
      ]
     },
     "execution_count": 32,
     "metadata": {},
     "output_type": "execute_result"
    }
   ],
   "source": [
    "path = os.getcwd() + '/dane2.txt'\n",
    "data2 = pd.read_csv(path, header=None, names=['Size', 'Bedrooms', 'Price'])\n",
    "type(data2)\n",
    "#data2.head()"
   ]
  },
  {
   "cell_type": "markdown",
   "metadata": {},
   "source": [
    "# Example 1:"
   ]
  },
  {
   "cell_type": "markdown",
   "metadata": {},
   "source": [
    "Notice that the scale of the values for each variable is vastly different. \n",
    "\n",
    "A house will typically have 2-5 bedrooms but may have anywhere from hundreds to thousands of square feet. To fix this, we need to do something called **“feature normalization”.** \n",
    "\n",
    "One way to do this is by **subtracting from each value** in a **feature** the **mean of that feature**, and then **dividing by the standard deviation** (2 lines of code)."
   ]
  },
  {
   "cell_type": "code",
   "execution_count": 33,
   "metadata": {},
   "outputs": [],
   "source": [
    "def standarize(X):\n",
    "    mean = X.mean()\n",
    "    std = X.std()\n",
    "    X = (X - mean) / std\n",
    "    return X"
   ]
  },
  {
   "cell_type": "code",
   "execution_count": 34,
   "metadata": {},
   "outputs": [],
   "source": [
    "data2_stdrized = pd.DataFrame(index=[], columns=['Size', 'Bedrooms', 'Price']) # init an empty pandas dataframe\n",
    "\n",
    "data2_stdrized['Size']=standarize(data2['Size'])\n",
    "data2_stdrized['Bedrooms']=standarize(data2['Bedrooms'])\n",
    "data2_stdrized['Price']=standarize(data2['Price'])"
   ]
  },
  {
   "cell_type": "code",
   "execution_count": 35,
   "metadata": {},
   "outputs": [
    {
     "data": {
      "text/html": [
       "<div>\n",
       "<style scoped>\n",
       "    .dataframe tbody tr th:only-of-type {\n",
       "        vertical-align: middle;\n",
       "    }\n",
       "\n",
       "    .dataframe tbody tr th {\n",
       "        vertical-align: top;\n",
       "    }\n",
       "\n",
       "    .dataframe thead th {\n",
       "        text-align: right;\n",
       "    }\n",
       "</style>\n",
       "<table border=\"1\" class=\"dataframe\">\n",
       "  <thead>\n",
       "    <tr style=\"text-align: right;\">\n",
       "      <th></th>\n",
       "      <th>Size</th>\n",
       "      <th>Bedrooms</th>\n",
       "      <th>Price</th>\n",
       "    </tr>\n",
       "  </thead>\n",
       "  <tbody>\n",
       "    <tr>\n",
       "      <th>0</th>\n",
       "      <td>0.130010</td>\n",
       "      <td>-0.223675</td>\n",
       "      <td>0.475747</td>\n",
       "    </tr>\n",
       "    <tr>\n",
       "      <th>1</th>\n",
       "      <td>-0.504190</td>\n",
       "      <td>-0.223675</td>\n",
       "      <td>-0.084074</td>\n",
       "    </tr>\n",
       "    <tr>\n",
       "      <th>2</th>\n",
       "      <td>0.502476</td>\n",
       "      <td>-0.223675</td>\n",
       "      <td>0.228626</td>\n",
       "    </tr>\n",
       "    <tr>\n",
       "      <th>3</th>\n",
       "      <td>-0.735723</td>\n",
       "      <td>-1.537767</td>\n",
       "      <td>-0.867025</td>\n",
       "    </tr>\n",
       "    <tr>\n",
       "      <th>4</th>\n",
       "      <td>1.257476</td>\n",
       "      <td>1.090417</td>\n",
       "      <td>1.595389</td>\n",
       "    </tr>\n",
       "  </tbody>\n",
       "</table>\n",
       "</div>"
      ],
      "text/plain": [
       "       Size  Bedrooms     Price\n",
       "0  0.130010 -0.223675  0.475747\n",
       "1 -0.504190 -0.223675 -0.084074\n",
       "2  0.502476 -0.223675  0.228626\n",
       "3 -0.735723 -1.537767 -0.867025\n",
       "4  1.257476  1.090417  1.595389"
      ]
     },
     "execution_count": 35,
     "metadata": {},
     "output_type": "execute_result"
    }
   ],
   "source": [
    "data2_stdrized.head()"
   ]
  },
  {
   "cell_type": "code",
   "execution_count": 36,
   "metadata": {},
   "outputs": [],
   "source": [
    "col_h=pd.DataFrame(np.ones((data2_stdrized.shape[0],1)))\n",
    "data2_stdrized.insert(0,'Ones',col_h)\n",
    "X_h=data2_stdrized[['Ones','Size','Bedrooms']]\n",
    "Y_h=data2_stdrized[['Price']]"
   ]
  },
  {
   "cell_type": "code",
   "execution_count": 37,
   "metadata": {},
   "outputs": [
    {
     "data": {
      "image/png": "[encoded data removed]",
      "text/plain": [
       "<Figure size 432x288 with 1 Axes>"
      ]
     },
     "metadata": {
      "needs_background": "light"
     },
     "output_type": "display_data"
    }
   ],
   "source": [
    "plt.figure()\n",
    "ax = plt.axes(projection=\"3d\")\n",
    "ax.plot3D(X_h['Size'],X_h['Bedrooms'],Y_h['Price'], 'b.',label='Data')\n",
    "ax.legend()\n",
    "ax.set_xlabel('Size')\n",
    "ax.set_ylabel('Bedrooms')\n",
    "ax.text2D(0.1, 0.95, \"Imput Data\", transform=ax.transAxes)\n",
    "ax.set_zlabel('Price')\n",
    "plt.show()"
   ]
  },
  {
   "cell_type": "code",
   "execution_count": 38,
   "metadata": {},
   "outputs": [],
   "source": [
    "def Gradient_descent_h(X,Y,theta,alpha,it,m=0):\n",
    "    theta_1 = theta\n",
    "    costs = np.zeros(shape=(it, 1))\n",
    "    for i in range(it):\n",
    "        theta_1 = theta_1 - alpha * sum((X @ theta_1.T - Y) * X) / len(X)\n",
    "        costs[i] = computeCostFunction(X, Y, theta_1, Y.shape[0])\n",
    "    return theta_1, computeCostFunction(X, Y, theta_1, Y.shape[0]), costs"
   ]
  },
  {
   "cell_type": "code",
   "execution_count": 39,
   "metadata": {},
   "outputs": [
    {
     "name": "stdout",
     "output_type": "stream",
     "text": [
      "Cost function value: \n",
      "[0.4893617]\n",
      "Optimal theta Vector Values: \n",
      "[[-1.03374756e-16  8.78503652e-01 -4.69166570e-02]]\n",
      "Optimal Cost Vector Values: \n",
      "[0.13070337]\n"
     ]
    }
   ],
   "source": [
    "theta_h=np.array([[0.0,0.0,0.0]],dtype=float)\n",
    "X_h_matrix=np.array(X_h.values,dtype=float)\n",
    "Y_h_matrix=np.array(Y_h.values,dtype=float)\n",
    "alpha=0.01\n",
    "it=1000\n",
    "print(\"Cost function value: \")\n",
    "print(computeCostFunction(X_h_matrix,Y_h_matrix,theta_h,Y_h_matrix.shape[0])) \n",
    "theta_optimal_h,cost_optimal_h,costs_h=Gradient_descent_h(X_h_matrix,Y_h_matrix,theta_h,alpha,it,Y_h_matrix.shape[0])\n",
    "print(\"Optimal theta Vector Values: \")\n",
    "print(theta_optimal_h) # optymalna theta=[-1.10e-16,8.79e-1,-4.691e-2]\n",
    "print(\"Optimal Cost Vector Values: \")\n",
    "print(cost_optimal_h) # Koszt dla optymalnego theta=0.131"
   ]
  },
  {
   "cell_type": "code",
   "execution_count": 40,
   "metadata": {},
   "outputs": [
    {
     "data": {
      "image/png": "[encoded data removed]",
      "text/plain": [
       "<Figure size 432x288 with 1 Axes>"
      ]
     },
     "metadata": {
      "needs_background": "light"
     },
     "output_type": "display_data"
    }
   ],
   "source": [
    "plt.figure()\n",
    "ax = plt.axes(projection=\"3d\")\n",
    "ax.plot3D(X_h_matrix[:,1],X_h_matrix[:,2],Y_h_matrix[:,0], 'b.')\n",
    "ax.text2D(0.05, 0.95, \"Dane z linią regresji\", transform=ax.transAxes)\n",
    "x1_1=-1\n",
    "x1_2=3\n",
    "x2_1=-3\n",
    "x2_2=2\n",
    "y_1=theta_optimal_h[:,0]+x1_1*theta_optimal_h[:,1]+x2_1*theta_optimal_h[:,2]\n",
    "y_2=theta_optimal_h[:,0]+x1_2*theta_optimal_h[:,1]+x2_2*theta_optimal_h[:,2]\n",
    "ax.plot3D([x1_1,x1_2],[x2_1,x2_2],[y_1[0],y_2[0]],'r')\n",
    "ax.set_xlabel('Size')\n",
    "ax.set_ylabel('Bedrooms')\n",
    "ax.set_zlabel('Price')\n",
    "ax.view_init(elev=-153, azim=-148)\n",
    "plt.show()"
   ]
  },
  {
   "cell_type": "code",
   "execution_count": 41,
   "metadata": {},
   "outputs": [
    {
     "data": {
      "image/png": "[encoded data removed]",
      "text/plain": [
       "<Figure size 432x288 with 1 Axes>"
      ]
     },
     "metadata": {
      "needs_background": "light"
     },
     "output_type": "display_data"
    }
   ],
   "source": [
    "plt.figure()\n",
    "ax = plt.axes(projection=\"3d\")\n",
    "ax.plot3D(X_h_matrix[:,1],X_h_matrix[:,2],Y_h_matrix[:,0], 'b.')\n",
    "ax.text2D(0.05, 0.95, \"Dane z linią regresji\", transform=ax.transAxes)\n",
    "x1_1=-1\n",
    "x1_2=3\n",
    "x2_1=-3\n",
    "x2_2=2\n",
    "y_1=theta_optimal_h[:,0]+x1_1*theta_optimal_h[:,1]+x2_1*theta_optimal_h[:,2]\n",
    "y_2=theta_optimal_h[:,0]+x1_2*theta_optimal_h[:,1]+x2_2*theta_optimal_h[:,2]\n",
    "ax.plot3D([x1_1,x1_2],[x2_1,x2_2],[y_1[0],y_2[0]],'r')\n",
    "ax.set_xlabel('Size')\n",
    "ax.set_ylabel('Bedrooms')\n",
    "ax.set_zlabel('Price')\n",
    "ax.view_init(elev=-153, azim=156)\n",
    "plt.show()"
   ]
  },
  {
   "cell_type": "code",
   "execution_count": 42,
   "metadata": {},
   "outputs": [
    {
     "data": {
      "image/png": "[encoded data removed]",
      "text/plain": [
       "<Figure size 432x288 with 1 Axes>"
      ]
     },
     "metadata": {
      "needs_background": "light"
     },
     "output_type": "display_data"
    }
   ],
   "source": [
    "plt.figure()\n",
    "ax = plt.axes(projection=\"3d\")\n",
    "ax.plot3D(X_h_matrix[:,1],X_h_matrix[:,2],Y_h_matrix[:,0], 'b.')\n",
    "ax.text2D(0.05, 0.95, \"Dane z linią regresji\", transform=ax.transAxes)\n",
    "x1_1=-1\n",
    "x1_2=3\n",
    "x2_1=-3\n",
    "x2_2=2\n",
    "y_1=theta_optimal_h[:,0]+x1_1*theta_optimal_h[:,1]+x2_1*theta_optimal_h[:,2]\n",
    "y_2=theta_optimal_h[:,0]+x1_2*theta_optimal_h[:,1]+x2_2*theta_optimal_h[:,2]\n",
    "ax.plot3D([x1_1,x1_2],[x2_1,x2_2],[y_1[0],y_2[0]],'r')\n",
    "ax.set_xlabel('Size')\n",
    "ax.set_ylabel('Bedrooms')\n",
    "ax.set_zlabel('Price')\n",
    "ax.view_init(elev=-171, azim=-134)\n",
    "plt.show()"
   ]
  },
  {
   "cell_type": "code",
   "execution_count": 43,
   "metadata": {},
   "outputs": [
    {
     "data": {
      "text/plain": [
       "[<matplotlib.lines.Line2D at 0x21df294c488>]"
      ]
     },
     "execution_count": 43,
     "metadata": {},
     "output_type": "execute_result"
    },
    {
     "data": {
      "image/png": "[encoded data removed]",
      "text/plain": [
       "<Figure size 432x288 with 1 Axes>"
      ]
     },
     "metadata": {
      "needs_background": "light"
     },
     "output_type": "display_data"
    }
   ],
   "source": [
    "plt.figure()\n",
    "plt.title('Cost function value')\n",
    "plt.xlabel('Iteration count')\n",
    "plt.ylabel('Cost function value')\n",
    "plt.plot(range(len(costs_h)),costs_h,'b.')"
   ]
  },
  {
   "cell_type": "markdown",
   "metadata": {},
   "source": [
    "# ------------------------ Linear regression - Python"
   ]
  },
  {
   "cell_type": "markdown",
   "metadata": {},
   "source": [
    "An alternative solution to explicit implementation of the linear regression problem is to use the library `scikit-learn` with the object `LinearRegression`."
   ]
  },
  {
   "cell_type": "markdown",
   "metadata": {},
   "source": [
    "The implementation of any type of regression is very simple, we create an object of the appropriate class (`LinearRegression, Ridge, Lasso, ElasticNet`), on which we call the **fit** method, giving it the **training set arguments**, target values and possible parameters `(𝛼,𝜌)`. Then we call **predict**, which will return the predicted value. "
   ]
  },
  {
   "cell_type": "code",
   "execution_count": 44,
   "metadata": {},
   "outputs": [],
   "source": [
    "import numpy as np\n",
    "import matplotlib.pyplot as plt\n",
    "from sklearn import datasets, linear_model"
   ]
  },
  {
   "cell_type": "code",
   "execution_count": 45,
   "metadata": {},
   "outputs": [],
   "source": [
    "def standarize(X):\n",
    "    mean = X.mean()\n",
    "    std = X.std()\n",
    "    X = (X - mean) / std\n",
    "    return X"
   ]
  },
  {
   "cell_type": "code",
   "execution_count": 46,
   "metadata": {},
   "outputs": [],
   "source": [
    "boston=datasets.load_boston()\n",
    "# print(boston.DESCR)\n",
    "boston_X=boston.data\n",
    "boston_Y=boston.target\n",
    "point=int(0.7*boston_X.shape[0])\n",
    "X_train=boston_X[:point]\n",
    "Y_train=boston_Y[:point]\n",
    "X_test=boston_X[point:]\n",
    "Y_test=boston_Y[point:]"
   ]
  },
  {
   "cell_type": "code",
   "execution_count": 47,
   "metadata": {},
   "outputs": [
    {
     "data": {
      "text/plain": [
       "506"
      ]
     },
     "execution_count": 47,
     "metadata": {},
     "output_type": "execute_result"
    }
   ],
   "source": [
    "len(boston_X)"
   ]
  },
  {
   "cell_type": "markdown",
   "metadata": {},
   "source": [
    "### Defining an object instance:"
   ]
  },
  {
   "cell_type": "code",
   "execution_count": 48,
   "metadata": {},
   "outputs": [],
   "source": [
    "regr = linear_model.LinearRegression()"
   ]
  },
  {
   "cell_type": "markdown",
   "metadata": {},
   "source": [
    "### Learning based on a training data:"
   ]
  },
  {
   "cell_type": "code",
   "execution_count": 49,
   "metadata": {},
   "outputs": [
    {
     "data": {
      "text/plain": [
       "LinearRegression()"
      ]
     },
     "execution_count": 49,
     "metadata": {},
     "output_type": "execute_result"
    }
   ],
   "source": [
    "regr.fit(X_train, Y_train)"
   ]
  },
  {
   "cell_type": "markdown",
   "metadata": {},
   "source": [
    "### Predicting the value for the test data"
   ]
  },
  {
   "cell_type": "code",
   "execution_count": 50,
   "metadata": {},
   "outputs": [],
   "source": [
    "Y_predicted = regr.predict(X_test)"
   ]
  },
  {
   "cell_type": "markdown",
   "metadata": {},
   "source": [
    "### Regression line parameters:"
   ]
  },
  {
   "cell_type": "code",
   "execution_count": 51,
   "metadata": {},
   "outputs": [
    {
     "name": "stdout",
     "output_type": "stream",
     "text": [
      "Coefficients: \n",
      " [ 1.29693856  0.01469497  0.04050457  0.79060732 -9.12933243  9.24839787\n",
      " -0.0451214  -0.91395374  0.14079658 -0.01477291 -0.63369567  0.01577172\n",
      " -0.09514128]\n"
     ]
    }
   ],
   "source": [
    "print('Coefficients: \\n', regr.coef_)"
   ]
  },
  {
   "cell_type": "markdown",
   "metadata": {},
   "source": [
    "### Mean-square error value (Linear Regression)"
   ]
  },
  {
   "cell_type": "code",
   "execution_count": 52,
   "metadata": {},
   "outputs": [
    {
     "name": "stdout",
     "output_type": "stream",
     "text": [
      "Residual sum of squares for Linear Regression: 546.9193565310729\n"
     ]
    }
   ],
   "source": [
    "error = np.mean((regr.predict(X_test) - Y_test) ** 2)\n",
    "print(\"Residual sum of squares for Linear Regression: {}\".format(error))"
   ]
  },
  {
   "cell_type": "markdown",
   "metadata": {},
   "source": [
    "### Mean-square error value (Lasso)"
   ]
  },
  {
   "cell_type": "code",
   "execution_count": 53,
   "metadata": {},
   "outputs": [
    {
     "name": "stdout",
     "output_type": "stream",
     "text": [
      "Residual sum of squares for Lasso: 61.057909757514366\n"
     ]
    }
   ],
   "source": [
    "regr = linear_model.Lasso(alpha=5.1)\n",
    "regr.fit(X_train, Y_train)\n",
    "Y_predicted = regr.predict(X_test)\n",
    "error = np.mean((regr.predict(X_test) - Y_test) ** 2)\n",
    "print(\"Residual sum of squares for Lasso: {}\".format(error))"
   ]
  },
  {
   "cell_type": "code",
   "execution_count": 54,
   "metadata": {},
   "outputs": [
    {
     "name": "stdout",
     "output_type": "stream",
     "text": [
      "Coefficients: \n",
      " [ 0.          0.0477903  -0.          0.          0.          0.\n",
      "  0.04708948 -0.          0.         -0.02068316 -0.0529224   0.00708213\n",
      " -0.78690159]\n"
     ]
    }
   ],
   "source": [
    "print('Coefficients: \\n', regr.coef_)"
   ]
  },
  {
   "cell_type": "markdown",
   "metadata": {},
   "source": [
    "### Mean-square error value (ElasticNet)"
   ]
  },
  {
   "cell_type": "code",
   "execution_count": 55,
   "metadata": {},
   "outputs": [
    {
     "name": "stdout",
     "output_type": "stream",
     "text": [
      "Residual sum of squares for ElasticNet: 47.06479903917339\n"
     ]
    }
   ],
   "source": [
    "regr = linear_model.ElasticNet(alpha=0.5,l1_ratio=0.5)\n",
    "regr.fit(X_train, Y_train)\n",
    "Y_predicted = regr.predict(X_test)\n",
    "error = np.mean((regr.predict(X_test) - Y_test) ** 2)\n",
    "print(\"Residual sum of squares for ElasticNet: {}\".format(error))"
   ]
  },
  {
   "cell_type": "code",
   "execution_count": 56,
   "metadata": {},
   "outputs": [
    {
     "name": "stdout",
     "output_type": "stream",
     "text": [
      "Coefficients: \n",
      " [ 0.00000000e+00  4.14236725e-02 -2.83518700e-03  0.00000000e+00\n",
      " -0.00000000e+00  3.60073049e+00  8.54424570e-04 -8.64658658e-01\n",
      "  2.31300264e-01 -1.96056131e-02 -7.77811752e-01  1.57976950e-02\n",
      " -5.63953800e-01]\n"
     ]
    }
   ],
   "source": [
    "print('Coefficients: \\n', regr.coef_)"
   ]
  },
  {
   "cell_type": "markdown",
   "metadata": {},
   "source": [
    "#### The least error made by fitting into the data was achieved using ElasticNet method. The worst method is the Linear Regression\n",
    "\n",
    "**Linear_Regression:** 546.9193565310729\n",
    "\n",
    "**Lasso:** 61.057909757514366\n",
    "\n",
    "**ElasticNet:** 47.06479903917339"
   ]
  },
  {
   "cell_type": "code",
   "execution_count": null,
   "metadata": {},
   "outputs": [],
   "source": []
  }
 ],
 "metadata": {
  "kernelspec": {
   "display_name": "Python 3",
   "language": "python",
   "name": "python3"
  },
  "language_info": {
   "codemirror_mode": {
    "name": "ipython",
    "version": 3
   },
   "file_extension": ".py",
   "mimetype": "text/x-python",
   "name": "python",
   "nbconvert_exporter": "python",
   "pygments_lexer": "ipython3",
   "version": "3.7.7"
  }
 },
 "nbformat": 4,
 "nbformat_minor": 4
}
