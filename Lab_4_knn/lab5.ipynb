{
 "cells": [
  {
   "cell_type": "code",
   "execution_count": 1,
   "metadata": {},
   "outputs": [],
   "source": [
    "from sklearn.model_selection import train_test_split\n",
    "from scipy.spatial import distance\n",
    "from sklearn.metrics import accuracy_score\n",
    "import pandas as pd\n",
    "import numpy as np\n",
    "import scipy as sp\n",
    "from sklearn import datasets, linear_model as linm\n",
    "import matplotlib.pyplot as plt\n",
    "from mpl_toolkits.mplot3d import Axes3D\n",
    "from sklearn.neighbors import KNeighborsClassifier\n",
    "from sklearn.metrics import classification_report, confusion_matrix, f1_score\n",
    "from sklearn import tree\n",
    "from scipy.io import loadmat"
   ]
  },
  {
   "cell_type": "markdown",
   "metadata": {},
   "source": [
    "1. Baza danych Iris - proszę podzielić na zbiór uczący i testowy\n",
    "2. Wybieramy wartość k\n",
    "3. Poszukujemy k obserwacji, które są najbliższe do naszego analizowanego przykładu. Do wyznaczania odległości skorzystaj z algorytmu Eukleidesa.\n",
    "4. Użyj najczęściej pojawiającej się wartości z “k najbliższych sąsiadów” jako wartość dla nieznanego Iris."
   ]
  },
  {
   "cell_type": "code",
   "execution_count": 2,
   "metadata": {},
   "outputs": [],
   "source": [
    "db_iris = datasets.load_iris()\n",
    " \n",
    "#Podziel zbiór na uczący i testowy, test_size - procentowy udział (przykład 50 % uczący i testowy)\n",
    "features_train, features_test, labels_train, labels_test = train_test_split(db_iris.data, db_iris.target, test_size=0.5)\n",
    "\n",
    "\n",
    "k=4"
   ]
  },
  {
   "cell_type": "code",
   "execution_count": 3,
   "metadata": {},
   "outputs": [
    {
     "data": {
      "text/plain": [
       "array([[5.1, 3.5, 1.4, 0.2],\n",
       "       [4.9, 3. , 1.4, 0.2],\n",
       "       [4.7, 3.2, 1.3, 0.2],\n",
       "       [4.6, 3.1, 1.5, 0.2],\n",
       "       [5. , 3.6, 1.4, 0.2],\n",
       "       [5.4, 3.9, 1.7, 0.4],\n",
       "       [4.6, 3.4, 1.4, 0.3],\n",
       "       [5. , 3.4, 1.5, 0.2],\n",
       "       [4.4, 2.9, 1.4, 0.2],\n",
       "       [4.9, 3.1, 1.5, 0.1],\n",
       "       [5.4, 3.7, 1.5, 0.2],\n",
       "       [4.8, 3.4, 1.6, 0.2],\n",
       "       [4.8, 3. , 1.4, 0.1],\n",
       "       [4.3, 3. , 1.1, 0.1],\n",
       "       [5.8, 4. , 1.2, 0.2],\n",
       "       [5.7, 4.4, 1.5, 0.4],\n",
       "       [5.4, 3.9, 1.3, 0.4],\n",
       "       [5.1, 3.5, 1.4, 0.3],\n",
       "       [5.7, 3.8, 1.7, 0.3],\n",
       "       [5.1, 3.8, 1.5, 0.3],\n",
       "       [5.4, 3.4, 1.7, 0.2],\n",
       "       [5.1, 3.7, 1.5, 0.4],\n",
       "       [4.6, 3.6, 1. , 0.2],\n",
       "       [5.1, 3.3, 1.7, 0.5],\n",
       "       [4.8, 3.4, 1.9, 0.2],\n",
       "       [5. , 3. , 1.6, 0.2],\n",
       "       [5. , 3.4, 1.6, 0.4],\n",
       "       [5.2, 3.5, 1.5, 0.2],\n",
       "       [5.2, 3.4, 1.4, 0.2],\n",
       "       [4.7, 3.2, 1.6, 0.2],\n",
       "       [4.8, 3.1, 1.6, 0.2],\n",
       "       [5.4, 3.4, 1.5, 0.4],\n",
       "       [5.2, 4.1, 1.5, 0.1],\n",
       "       [5.5, 4.2, 1.4, 0.2],\n",
       "       [4.9, 3.1, 1.5, 0.2],\n",
       "       [5. , 3.2, 1.2, 0.2],\n",
       "       [5.5, 3.5, 1.3, 0.2],\n",
       "       [4.9, 3.6, 1.4, 0.1],\n",
       "       [4.4, 3. , 1.3, 0.2],\n",
       "       [5.1, 3.4, 1.5, 0.2],\n",
       "       [5. , 3.5, 1.3, 0.3],\n",
       "       [4.5, 2.3, 1.3, 0.3],\n",
       "       [4.4, 3.2, 1.3, 0.2],\n",
       "       [5. , 3.5, 1.6, 0.6],\n",
       "       [5.1, 3.8, 1.9, 0.4],\n",
       "       [4.8, 3. , 1.4, 0.3],\n",
       "       [5.1, 3.8, 1.6, 0.2],\n",
       "       [4.6, 3.2, 1.4, 0.2],\n",
       "       [5.3, 3.7, 1.5, 0.2],\n",
       "       [5. , 3.3, 1.4, 0.2],\n",
       "       [7. , 3.2, 4.7, 1.4],\n",
       "       [6.4, 3.2, 4.5, 1.5],\n",
       "       [6.9, 3.1, 4.9, 1.5],\n",
       "       [5.5, 2.3, 4. , 1.3],\n",
       "       [6.5, 2.8, 4.6, 1.5],\n",
       "       [5.7, 2.8, 4.5, 1.3],\n",
       "       [6.3, 3.3, 4.7, 1.6],\n",
       "       [4.9, 2.4, 3.3, 1. ],\n",
       "       [6.6, 2.9, 4.6, 1.3],\n",
       "       [5.2, 2.7, 3.9, 1.4],\n",
       "       [5. , 2. , 3.5, 1. ],\n",
       "       [5.9, 3. , 4.2, 1.5],\n",
       "       [6. , 2.2, 4. , 1. ],\n",
       "       [6.1, 2.9, 4.7, 1.4],\n",
       "       [5.6, 2.9, 3.6, 1.3],\n",
       "       [6.7, 3.1, 4.4, 1.4],\n",
       "       [5.6, 3. , 4.5, 1.5],\n",
       "       [5.8, 2.7, 4.1, 1. ],\n",
       "       [6.2, 2.2, 4.5, 1.5],\n",
       "       [5.6, 2.5, 3.9, 1.1],\n",
       "       [5.9, 3.2, 4.8, 1.8],\n",
       "       [6.1, 2.8, 4. , 1.3],\n",
       "       [6.3, 2.5, 4.9, 1.5],\n",
       "       [6.1, 2.8, 4.7, 1.2],\n",
       "       [6.4, 2.9, 4.3, 1.3],\n",
       "       [6.6, 3. , 4.4, 1.4],\n",
       "       [6.8, 2.8, 4.8, 1.4],\n",
       "       [6.7, 3. , 5. , 1.7],\n",
       "       [6. , 2.9, 4.5, 1.5],\n",
       "       [5.7, 2.6, 3.5, 1. ],\n",
       "       [5.5, 2.4, 3.8, 1.1],\n",
       "       [5.5, 2.4, 3.7, 1. ],\n",
       "       [5.8, 2.7, 3.9, 1.2],\n",
       "       [6. , 2.7, 5.1, 1.6],\n",
       "       [5.4, 3. , 4.5, 1.5],\n",
       "       [6. , 3.4, 4.5, 1.6],\n",
       "       [6.7, 3.1, 4.7, 1.5],\n",
       "       [6.3, 2.3, 4.4, 1.3],\n",
       "       [5.6, 3. , 4.1, 1.3],\n",
       "       [5.5, 2.5, 4. , 1.3],\n",
       "       [5.5, 2.6, 4.4, 1.2],\n",
       "       [6.1, 3. , 4.6, 1.4],\n",
       "       [5.8, 2.6, 4. , 1.2],\n",
       "       [5. , 2.3, 3.3, 1. ],\n",
       "       [5.6, 2.7, 4.2, 1.3],\n",
       "       [5.7, 3. , 4.2, 1.2],\n",
       "       [5.7, 2.9, 4.2, 1.3],\n",
       "       [6.2, 2.9, 4.3, 1.3],\n",
       "       [5.1, 2.5, 3. , 1.1],\n",
       "       [5.7, 2.8, 4.1, 1.3],\n",
       "       [6.3, 3.3, 6. , 2.5],\n",
       "       [5.8, 2.7, 5.1, 1.9],\n",
       "       [7.1, 3. , 5.9, 2.1],\n",
       "       [6.3, 2.9, 5.6, 1.8],\n",
       "       [6.5, 3. , 5.8, 2.2],\n",
       "       [7.6, 3. , 6.6, 2.1],\n",
       "       [4.9, 2.5, 4.5, 1.7],\n",
       "       [7.3, 2.9, 6.3, 1.8],\n",
       "       [6.7, 2.5, 5.8, 1.8],\n",
       "       [7.2, 3.6, 6.1, 2.5],\n",
       "       [6.5, 3.2, 5.1, 2. ],\n",
       "       [6.4, 2.7, 5.3, 1.9],\n",
       "       [6.8, 3. , 5.5, 2.1],\n",
       "       [5.7, 2.5, 5. , 2. ],\n",
       "       [5.8, 2.8, 5.1, 2.4],\n",
       "       [6.4, 3.2, 5.3, 2.3],\n",
       "       [6.5, 3. , 5.5, 1.8],\n",
       "       [7.7, 3.8, 6.7, 2.2],\n",
       "       [7.7, 2.6, 6.9, 2.3],\n",
       "       [6. , 2.2, 5. , 1.5],\n",
       "       [6.9, 3.2, 5.7, 2.3],\n",
       "       [5.6, 2.8, 4.9, 2. ],\n",
       "       [7.7, 2.8, 6.7, 2. ],\n",
       "       [6.3, 2.7, 4.9, 1.8],\n",
       "       [6.7, 3.3, 5.7, 2.1],\n",
       "       [7.2, 3.2, 6. , 1.8],\n",
       "       [6.2, 2.8, 4.8, 1.8],\n",
       "       [6.1, 3. , 4.9, 1.8],\n",
       "       [6.4, 2.8, 5.6, 2.1],\n",
       "       [7.2, 3. , 5.8, 1.6],\n",
       "       [7.4, 2.8, 6.1, 1.9],\n",
       "       [7.9, 3.8, 6.4, 2. ],\n",
       "       [6.4, 2.8, 5.6, 2.2],\n",
       "       [6.3, 2.8, 5.1, 1.5],\n",
       "       [6.1, 2.6, 5.6, 1.4],\n",
       "       [7.7, 3. , 6.1, 2.3],\n",
       "       [6.3, 3.4, 5.6, 2.4],\n",
       "       [6.4, 3.1, 5.5, 1.8],\n",
       "       [6. , 3. , 4.8, 1.8],\n",
       "       [6.9, 3.1, 5.4, 2.1],\n",
       "       [6.7, 3.1, 5.6, 2.4],\n",
       "       [6.9, 3.1, 5.1, 2.3],\n",
       "       [5.8, 2.7, 5.1, 1.9],\n",
       "       [6.8, 3.2, 5.9, 2.3],\n",
       "       [6.7, 3.3, 5.7, 2.5],\n",
       "       [6.7, 3. , 5.2, 2.3],\n",
       "       [6.3, 2.5, 5. , 1.9],\n",
       "       [6.5, 3. , 5.2, 2. ],\n",
       "       [6.2, 3.4, 5.4, 2.3],\n",
       "       [5.9, 3. , 5.1, 1.8]])"
      ]
     },
     "execution_count": 3,
     "metadata": {},
     "output_type": "execute_result"
    }
   ],
   "source": [
    "db_iris.data # sepal characteristics"
   ]
  },
  {
   "cell_type": "code",
   "execution_count": 4,
   "metadata": {},
   "outputs": [
    {
     "data": {
      "text/plain": [
       "array([0, 0, 0, 0, 0, 0, 0, 0, 0, 0, 0, 0, 0, 0, 0, 0, 0, 0, 0, 0, 0, 0,\n",
       "       0, 0, 0, 0, 0, 0, 0, 0, 0, 0, 0, 0, 0, 0, 0, 0, 0, 0, 0, 0, 0, 0,\n",
       "       0, 0, 0, 0, 0, 0, 1, 1, 1, 1, 1, 1, 1, 1, 1, 1, 1, 1, 1, 1, 1, 1,\n",
       "       1, 1, 1, 1, 1, 1, 1, 1, 1, 1, 1, 1, 1, 1, 1, 1, 1, 1, 1, 1, 1, 1,\n",
       "       1, 1, 1, 1, 1, 1, 1, 1, 1, 1, 1, 1, 2, 2, 2, 2, 2, 2, 2, 2, 2, 2,\n",
       "       2, 2, 2, 2, 2, 2, 2, 2, 2, 2, 2, 2, 2, 2, 2, 2, 2, 2, 2, 2, 2, 2,\n",
       "       2, 2, 2, 2, 2, 2, 2, 2, 2, 2, 2, 2, 2, 2, 2, 2, 2, 2])"
      ]
     },
     "execution_count": 4,
     "metadata": {},
     "output_type": "execute_result"
    }
   ],
   "source": [
    "db_iris.target # 3 types (categories) - "
   ]
  },
  {
   "cell_type": "code",
   "execution_count": 5,
   "metadata": {},
   "outputs": [
    {
     "name": "stdout",
     "output_type": "stream",
     "text": [
      "[[5.7 3.  4.2 1.2]\n",
      " [5.7 2.6 3.5 1. ]\n",
      " [5.8 2.7 5.1 1.9]\n",
      " [5.5 3.5 1.3 0.2]\n",
      " [7.1 3.  5.9 2.1]\n",
      " [5.6 2.9 3.6 1.3]\n",
      " [5.5 2.4 3.7 1. ]\n",
      " [7.  3.2 4.7 1.4]\n",
      " [6.7 2.5 5.8 1.8]\n",
      " [6.9 3.1 4.9 1.5]\n",
      " [4.3 3.  1.1 0.1]\n",
      " [5.6 2.7 4.2 1.3]\n",
      " [4.6 3.4 1.4 0.3]\n",
      " [4.9 3.1 1.5 0.2]\n",
      " [5.6 2.5 3.9 1.1]\n",
      " [6.  2.2 5.  1.5]\n",
      " [5.6 3.  4.5 1.5]\n",
      " [5.  3.4 1.5 0.2]\n",
      " [6.4 3.2 5.3 2.3]\n",
      " [5.1 2.5 3.  1.1]\n",
      " [4.8 3.  1.4 0.1]\n",
      " [7.2 3.6 6.1 2.5]\n",
      " [6.3 2.3 4.4 1.3]\n",
      " [6.7 3.3 5.7 2.1]\n",
      " [5.8 4.  1.2 0.2]\n",
      " [6.  3.  4.8 1.8]\n",
      " [4.4 3.2 1.3 0.2]\n",
      " [5.  3.5 1.3 0.3]\n",
      " [6.1 3.  4.9 1.8]\n",
      " [6.  3.4 4.5 1.6]\n",
      " [5.1 3.5 1.4 0.3]\n",
      " [5.7 4.4 1.5 0.4]\n",
      " [5.  3.6 1.4 0.2]\n",
      " [5.5 4.2 1.4 0.2]\n",
      " [5.8 2.7 3.9 1.2]\n",
      " [4.7 3.2 1.3 0.2]\n",
      " [4.8 3.  1.4 0.3]\n",
      " [6.4 2.8 5.6 2.1]\n",
      " [6.8 3.  5.5 2.1]\n",
      " [4.6 3.6 1.  0.2]\n",
      " [5.2 4.1 1.5 0.1]\n",
      " [7.3 2.9 6.3 1.8]\n",
      " [6.  2.7 5.1 1.6]\n",
      " [5.4 3.4 1.7 0.2]\n",
      " [5.7 2.9 4.2 1.3]\n",
      " [6.4 3.2 4.5 1.5]\n",
      " [6.6 2.9 4.6 1.3]\n",
      " [6.5 3.  5.8 2.2]\n",
      " [5.4 3.9 1.7 0.4]\n",
      " [5.7 2.8 4.1 1.3]\n",
      " [5.8 2.8 5.1 2.4]\n",
      " [5.2 3.4 1.4 0.2]\n",
      " [5.1 3.3 1.7 0.5]\n",
      " [4.8 3.4 1.6 0.2]\n",
      " [6.8 2.8 4.8 1.4]\n",
      " [4.9 3.1 1.5 0.1]\n",
      " [6.7 3.1 4.4 1.4]\n",
      " [6.2 3.4 5.4 2.3]\n",
      " [5.  3.2 1.2 0.2]\n",
      " [6.7 3.  5.  1.7]\n",
      " [5.6 3.  4.1 1.3]\n",
      " [4.5 2.3 1.3 0.3]\n",
      " [5.8 2.7 5.1 1.9]\n",
      " [5.9 3.  5.1 1.8]\n",
      " [7.2 3.  5.8 1.6]\n",
      " [7.7 2.6 6.9 2.3]\n",
      " [5.1 3.8 1.9 0.4]\n",
      " [5.  3.5 1.6 0.6]\n",
      " [5.  3.3 1.4 0.2]\n",
      " [6.3 2.5 4.9 1.5]\n",
      " [6.2 2.8 4.8 1.8]\n",
      " [6.8 3.2 5.9 2.3]\n",
      " [5.8 2.7 4.1 1. ]\n",
      " [6.1 2.8 4.7 1.2]\n",
      " [6.1 2.9 4.7 1.4]]\n"
     ]
    }
   ],
   "source": [
    "print(features_train) #\n"
   ]
  },
  {
   "cell_type": "code",
   "execution_count": 6,
   "metadata": {},
   "outputs": [
    {
     "name": "stdout",
     "output_type": "stream",
     "text": [
      "150\n"
     ]
    }
   ],
   "source": [
    "print(db_iris.data.shape[0])"
   ]
  },
  {
   "cell_type": "markdown",
   "metadata": {},
   "source": [
    "#### The above methods splits the data to 2 groups - accordingly to the percentage.\n"
   ]
  },
  {
   "cell_type": "code",
   "execution_count": 7,
   "metadata": {},
   "outputs": [
    {
     "name": "stdout",
     "output_type": "stream",
     "text": [
      "75\n"
     ]
    }
   ],
   "source": [
    "print(features_train.shape[0])"
   ]
  },
  {
   "cell_type": "code",
   "execution_count": 8,
   "metadata": {},
   "outputs": [
    {
     "name": "stdout",
     "output_type": "stream",
     "text": [
      "Prediction made: \n",
      "[2 1 1 0 0 0 0 2 1 2 0 1 0 2 1 1 1 0 1 1 0 2 2 2 1 1 1 2 2 1 2 1 2 0 0 2 0\n",
      " 0 0 2 0 2 0 0 1 1 2 1 2 1 1 1 2 0 2 2 0 1 0 0 2 1 1 1 1 1 0 1 0 1 2 2 2 2\n",
      " 1] \n",
      " [2 1 1 0 0 0 0 2 1 2 0 1 0 2 1 1 2 0 1 1 0 2 2 2 1 1 1 2 2 1 2 1 2 0 0 2 0\n",
      " 0 0 2 0 2 0 0 1 1 2 1 1 2 2 2 2 0 2 2 0 1 0 0 2 2 1 1 2 1 0 1 0 1 2 2 2 2\n",
      " 1]\n",
      "0.9066666666666666\n"
     ]
    }
   ],
   "source": [
    "def KNN(info, features_, k_, labels_):\n",
    "    \"\"\"\n",
    "    info - the data based on which the classification is performed\n",
    "    features_ - indexies \n",
    "    k_ - \n",
    "    labels_ - \n",
    "    \"\"\"\n",
    "    lengths = np.zeros((features_.shape[0], 2)) #Empty dataset\n",
    "    lengths = np.c_[lengths,labels_.T] #\n",
    "    for j in range(0,features_.shape[0]):\n",
    "        lengths[j,0]=abs(distance.euclidean(info,features_[j])); # scipy.spatial import distance\n",
    "        lengths[j,1]=j;\n",
    "    temp=np.argpartition(lengths[:,0], k_) # I still don't quite understand how this method works.\n",
    "    nearest_neighbours=temp[0:k_]\n",
    "    nearest_neighbour_labels=lengths[nearest_neighbours]\n",
    "    #print(lengths)\n",
    "    #print(nearest_neighbour_labels)\n",
    "    x_mode, count = sp.stats.mode(nearest_neighbour_labels[:,2])\n",
    "    return x_mode[0]\n",
    "\n",
    "predictions=np.zeros((labels_train.shape[0]),dtype=int)\n",
    "\n",
    "for i in range(0,labels_train.shape[0]):\n",
    "    predictions[i]=KNN(features_test[i], features_train, k, labels_train)\n",
    "\n",
    "print(\"Prediction made: \")\n",
    "print(predictions,\"\\n\",labels_test)\n",
    "output = accuracy_score(labels_test, predictions) #from sklearn.metrics import accuracy_score\n",
    "print(output)"
   ]
  },
  {
   "cell_type": "markdown",
   "metadata": {},
   "source": [
    "#### Exercise 2 - kNN method using 'sklearn' library"
   ]
  },
  {
   "cell_type": "code",
   "execution_count": 9,
   "metadata": {},
   "outputs": [],
   "source": [
    "db_iris = datasets.load_iris()\n",
    " \n",
    "#Dividing dataset on 2 groups - learning and testing dataset (50% on 50%)\n",
    "features_train, features_test, labels_train, labels_test = train_test_split(db_iris.data, db_iris.target, test_size=0.3)\n",
    "\n",
    "k=4 # Number of nearest neighbors. "
   ]
  },
  {
   "cell_type": "code",
   "execution_count": 10,
   "metadata": {},
   "outputs": [],
   "source": [
    "knn = KNeighborsClassifier(n_neighbors=3);\n",
    "knn.fit(features_train,labels_train); # Inserting features and labels dataset to automatically perform the method."
   ]
  },
  {
   "cell_type": "code",
   "execution_count": 11,
   "metadata": {},
   "outputs": [
    {
     "name": "stdout",
     "output_type": "stream",
     "text": [
      "0.9777777777777777\n"
     ]
    }
   ],
   "source": [
    "predictions=np.zeros((labels_train.shape[0]),dtype=int)\n",
    "predictions=knn.predict(features_test)\n",
    "output = accuracy_score(labels_test, predictions)\n",
    "print(\"Accuracy match: \")\n",
    "print(output)"
   ]
  },
  {
   "cell_type": "markdown",
   "metadata": {},
   "source": [
    "#### Decision tree based classifier:"
   ]
  },
  {
   "cell_type": "code",
   "execution_count": 13,
   "metadata": {},
   "outputs": [
    {
     "data": {
      "text/plain": [
       "DecisionTreeClassifier()"
      ]
     },
     "execution_count": 13,
     "metadata": {},
     "output_type": "execute_result"
    }
   ],
   "source": [
    "from sklearn.datasets import load_iris\n",
    "from sklearn import tree\n",
    "iris = load_iris()\n",
    "clf = tree.DecisionTreeClassifier()\n",
    "clf.fit(iris.data, iris.target) # The recognition is based on a whole imported sample."
   ]
  },
  {
   "cell_type": "markdown",
   "metadata": {},
   "source": [
    "#### Predicting assigment to a class (class is a type of petal, [0;2])"
   ]
  },
  {
   "cell_type": "code",
   "execution_count": 14,
   "metadata": {},
   "outputs": [
    {
     "name": "stdout",
     "output_type": "stream",
     "text": [
      "[0]\n"
     ]
    }
   ],
   "source": [
    "print(clf.predict(iris.data[:1, :]))"
   ]
  },
  {
   "cell_type": "markdown",
   "metadata": {},
   "source": [
    "####  Estimating probability of valid class assignment "
   ]
  },
  {
   "cell_type": "code",
   "execution_count": 15,
   "metadata": {},
   "outputs": [
    {
     "data": {
      "text/plain": [
       "array([[1., 0., 0.]])"
      ]
     },
     "execution_count": 15,
     "metadata": {},
     "output_type": "execute_result"
    }
   ],
   "source": [
    "clf.predict_proba(iris.data[:1, :])"
   ]
  },
  {
   "cell_type": "code",
   "execution_count": 16,
   "metadata": {},
   "outputs": [],
   "source": [
    "from six import StringIO  \n",
    "import pydot \n",
    "dot_data = StringIO() \n",
    "tree.export_graphviz(clf, out_file=dot_data) \n",
    "\n",
    "graph = pydot.graph_from_dot_data(dot_data.getvalue()) \n",
    "#graph[0].write_pdf(\"iris.pdf\")\n",
    "# ^^^^ not working in my case. The cause is unknown."
   ]
  },
  {
   "cell_type": "markdown",
   "metadata": {},
   "source": [
    "### Zadanie 4\n",
    "#### Handwriting numbers database (mnist.mat) assignment to a given shape or size."
   ]
  },
  {
   "cell_type": "code",
   "execution_count": 18,
   "metadata": {},
   "outputs": [],
   "source": [
    "# wczytywanie danych\n",
    "dane = loadmat('mnist.mat') # home.agh.edu.pl/~mdig/dokuwiki/lib/exe/fetch.php?media=teaching:data_science:datasets:mnist.mat"
   ]
  },
  {
   "cell_type": "code",
   "execution_count": 19,
   "metadata": {},
   "outputs": [
    {
     "name": "stdout",
     "output_type": "stream",
     "text": [
      "[[10]\n",
      " [10]\n",
      " [10]\n",
      " ...\n",
      " [ 9]\n",
      " [ 9]\n",
      " [ 9]]\n"
     ]
    }
   ],
   "source": [
    "\n",
    "#Zad 1. Podziel dane na parametry X oraz odpowiedź y:\n",
    " \n",
    "X = dane['X']\n",
    "y = dane['y']\n",
    "print(y)"
   ]
  },
  {
   "cell_type": "code",
   "execution_count": 20,
   "metadata": {},
   "outputs": [
    {
     "name": "stdout",
     "output_type": "stream",
     "text": [
      "liczba cyfr = 5000 liczba piskeli na obraz = 400\n"
     ]
    }
   ],
   "source": [
    "# Standaryzacja\n",
    "for i in range(X.shape[0]):\n",
    "    X[i,:] = X[i,:]/np.std(X[i,:])\n",
    " \n",
    "# Zamiana cyfry 10 -> 0 (błąd w zbiorze danych)    \n",
    "y[np.where(y==10)]=0\n",
    " \n",
    "# wysokość i szerokość obrazka z cyfrą \n",
    "h = 20\n",
    "w = 20\n",
    " \n",
    "# Zad 2. Proszę wyświetlić liczbę cyfr oraz liczbę pikseli przypadającą na jeden obraz\n",
    "print(\"Digit samples amount: = \",y.shape[0],\"Pixel amount per sample (image) = \",X.shape[1])"
   ]
  },
  {
   "cell_type": "code",
   "execution_count": 21,
   "metadata": {},
   "outputs": [],
   "source": [
    "def plot_mnist(images, titles, h, w, n_row=3, n_col=4):\n",
    "    plt.figure(figsize=(1.8 * n_col, 2.4 * n_row))\n",
    "    plt.subplots_adjust(bottom=0, left=.01, right=.99, top=.90, hspace=.05)\n",
    "    for i in range(n_row * n_col):\n",
    "        plt.subplot(n_row, n_col, i + 1)\n",
    "        plt.imshow(images[i].reshape((h, w)).T, cmap=plt.cm.gray)\n",
    "        plt.title(titles[i], size=12)\n",
    "        plt.xticks(())\n",
    "        plt.yticks(())"
   ]
  },
  {
   "cell_type": "code",
   "execution_count": 22,
   "metadata": {},
   "outputs": [
    {
     "name": "stderr",
     "output_type": "stream",
     "text": [
      "D:\\ProgramData\\Anaconda3\\envs\\Python 36\\lib\\site-packages\\matplotlib\\text.py:1163: FutureWarning: elementwise comparison failed; returning scalar instead, but in the future will perform elementwise comparison\n",
      "  if s != self._text:\n"
     ]
    },
    {
     "data": {
      "image/png": "[encoded data removed]",
      "text/plain": [
       "<Figure size 518.4x518.4 with 12 Axes>"
      ]
     },
     "metadata": {},
     "output_type": "display_data"
    }
   ],
   "source": [
    "plot_mnist(X,y,h,w)"
   ]
  },
  {
   "cell_type": "markdown",
   "metadata": {},
   "source": [
    "#### Splitting the existing data in a proportion of 30% per test samples and 7 for training set."
   ]
  },
  {
   "cell_type": "code",
   "execution_count": 23,
   "metadata": {},
   "outputs": [],
   "source": [
    "features_train, features_test, labels_train, labels_test = train_test_split(X, y, test_size=0.3)"
   ]
  },
  {
   "cell_type": "code",
   "execution_count": 24,
   "metadata": {},
   "outputs": [
    {
     "name": "stderr",
     "output_type": "stream",
     "text": [
      "D:\\ProgramData\\Anaconda3\\envs\\Python 36\\lib\\site-packages\\ipykernel_launcher.py:2: DataConversionWarning: A column-vector y was passed when a 1d array was expected. Please change the shape of y to (n_samples, ), for example using ravel().\n",
      "  \n"
     ]
    }
   ],
   "source": [
    "knn = KNeighborsClassifier(n_neighbors=10); # from sklearn.neighbors import KNeighborsClassifier\n",
    "knn.fit(features_train,labels_train);"
   ]
  },
  {
   "cell_type": "code",
   "execution_count": 25,
   "metadata": {},
   "outputs": [
    {
     "name": "stdout",
     "output_type": "stream",
     "text": [
      "0.944\n"
     ]
    }
   ],
   "source": [
    "predictions=np.zeros((labels_train.shape[0]),dtype=int)\n",
    "predictions=knn.predict(features_test)\n",
    "output = accuracy_score(labels_test, predictions)\n",
    "print(\"Accuracy match: \")\n",
    "print(output)"
   ]
  },
  {
   "cell_type": "code",
   "execution_count": 26,
   "metadata": {},
   "outputs": [
    {
     "name": "stdout",
     "output_type": "stream",
     "text": [
      "classification report:\n",
      "               precision    recall  f1-score   support\n",
      "\n",
      "           0       0.95      1.00      0.97       140\n",
      "           1       0.88      1.00      0.94       130\n",
      "           2       0.98      0.91      0.94       145\n",
      "           3       0.91      0.95      0.93       135\n",
      "           4       0.99      0.91      0.95       151\n",
      "           5       0.97      0.91      0.94       170\n",
      "           6       0.95      0.98      0.96       163\n",
      "           7       0.94      0.92      0.93       142\n",
      "           8       0.97      0.93      0.95       170\n",
      "           9       0.91      0.94      0.92       154\n",
      "\n",
      "    accuracy                           0.94      1500\n",
      "   macro avg       0.94      0.95      0.94      1500\n",
      "weighted avg       0.95      0.94      0.94      1500\n",
      " \n",
      "\n",
      "confusion matrix:\n",
      " [[140   0   0   0   0   0   0   0   0   0]\n",
      " [  0 130   0   0   0   0   0   0   0   0]\n",
      " [  3   3 132   1   0   0   1   3   1   1]\n",
      " [  0   1   1 128   0   1   1   1   1   1]\n",
      " [  0   4   0   0 137   0   4   0   0   6]\n",
      " [  1   1   1   5   0 155   2   0   3   2]\n",
      " [  2   0   0   0   0   1 160   0   0   0]\n",
      " [  1   5   1   0   0   0   0 131   0   4]\n",
      " [  0   4   0   4   0   3   0   0 158   1]\n",
      " [  1   0   0   2   1   0   1   4   0 145]] \n",
      "\n",
      "f1 score:\n",
      " 0.944\n"
     ]
    }
   ],
   "source": [
    "print(\"classification report:\\n\",classification_report(labels_test, predictions),\"\\n\\nconfusion matrix:\\n\",confusion_matrix(labels_test, predictions),'\\n\\nf1 score:\\n',f1_score(labels_test, predictions, average='micro'))\n"
   ]
  },
  {
   "cell_type": "code",
   "execution_count": null,
   "metadata": {},
   "outputs": [],
   "source": []
  }
 ],
 "metadata": {
  "kernelspec": {
   "display_name": "Python 3",
   "language": "python",
   "name": "python3"
  },
  "language_info": {
   "codemirror_mode": {
    "name": "ipython",
    "version": 3
   },
   "file_extension": ".py",
   "mimetype": "text/x-python",
   "name": "python",
   "nbconvert_exporter": "python",
   "pygments_lexer": "ipython3",
   "version": "3.7.7"
  }
 },
 "nbformat": 4,
 "nbformat_minor": 4
}
