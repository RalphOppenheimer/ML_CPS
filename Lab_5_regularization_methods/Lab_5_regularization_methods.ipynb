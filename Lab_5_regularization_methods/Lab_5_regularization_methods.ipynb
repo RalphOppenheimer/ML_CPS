{
 "cells": [
  {
   "cell_type": "markdown",
   "metadata": {},
   "source": [
    "# All the imported packages listed here:"
   ]
  },
  {
   "cell_type": "code",
   "execution_count": 1,
   "metadata": {},
   "outputs": [],
   "source": [
    "import sklearn\n",
    "from sklearn.datasets import load_boston\n",
    "boston = load_boston()\n",
    "from sklearn.model_selection import train_test_split\n",
    "from scipy.spatial import distance\n",
    "from sklearn.metrics import accuracy_score\n",
    "import numpy as np\n",
    "import scipy as sp\n",
    "import pandas as pd\n",
    "import matplotlib.pyplot as plt\n",
    "from sklearn import datasets, linear_model as linm\n",
    "from sklearn.linear_model import LinearRegression\n",
    "from sklearn.preprocessing import PolynomialFeatures\n",
    "from sklearn.preprocessing import StandardScaler\n",
    "from sklearn.pipeline import make_pipeline\n",
    "from mpl_toolkits.mplot3d import Axes3D\n",
    "from sklearn.metrics import classification_report, confusion_matrix, f1_score\n",
    "from sklearn.neighbors import KNeighborsClassifier\n",
    "from sklearn.utils import shuffle\n",
    "from sklearn.linear_model import Ridge, Lasso, LogisticRegression\n",
    "from sklearn.datasets import load_iris\n",
    "from scipy.io import loadmat\n",
    "from sklearn import tree"
   ]
  },
  {
   "cell_type": "markdown",
   "metadata": {},
   "source": [
    "## Ex. 1 Split train-test dataset"
   ]
  },
  {
   "cell_type": "code",
   "execution_count": 2,
   "metadata": {},
   "outputs": [
    {
     "name": "stdout",
     "output_type": "stream",
     "text": [
      "dict_keys(['data', 'target', 'feature_names', 'DESCR', 'filename'])\n",
      "(506, 13)\n",
      ".. _boston_dataset:\n",
      "\n",
      "Boston house prices dataset\n",
      "---------------------------\n",
      "\n",
      "**Data Set Characteristics:**  \n",
      "\n",
      "    :Number of Instances: 506 \n",
      "\n",
      "    :Number of Attributes: 13 numeric/categorical predictive. Median Value (attribute 14) is usually the target.\n",
      "\n",
      "    :Attribute Information (in order):\n",
      "        - CRIM     per capita crime rate by town\n",
      "        - ZN       proportion of residential land zoned for lots over 25,000 sq.ft.\n",
      "        - INDUS    proportion of non-retail business acres per town\n",
      "        - CHAS     Charles River dummy variable (= 1 if tract bounds river; 0 otherwise)\n",
      "        - NOX      nitric oxides concentration (parts per 10 million)\n",
      "        - RM       average number of rooms per dwelling\n",
      "        - AGE      proportion of owner-occupied units built prior to 1940\n",
      "        - DIS      weighted distances to five Boston employment centres\n",
      "        - RAD      index of accessibility to radial highways\n",
      "        - TAX      full-value property-tax rate per $10,000\n",
      "        - PTRATIO  pupil-teacher ratio by town\n",
      "        - B        1000(Bk - 0.63)^2 where Bk is the proportion of blacks by town\n",
      "        - LSTAT    % lower status of the population\n",
      "        - MEDV     Median value of owner-occupied homes in $1000's\n",
      "\n",
      "    :Missing Attribute Values: None\n",
      "\n",
      "    :Creator: Harrison, D. and Rubinfeld, D.L.\n",
      "\n",
      "This is a copy of UCI ML housing dataset.\n",
      "https://archive.ics.uci.edu/ml/machine-learning-databases/housing/\n",
      "\n",
      "\n",
      "This dataset was taken from the StatLib library which is maintained at Carnegie Mellon University.\n",
      "\n",
      "The Boston house-price data of Harrison, D. and Rubinfeld, D.L. 'Hedonic\n",
      "prices and the demand for clean air', J. Environ. Economics & Management,\n",
      "vol.5, 81-102, 1978.   Used in Belsley, Kuh & Welsch, 'Regression diagnostics\n",
      "...', Wiley, 1980.   N.B. Various transformations are used in the table on\n",
      "pages 244-261 of the latter.\n",
      "\n",
      "The Boston house-price data has been used in many machine learning papers that address regression\n",
      "problems.   \n",
      "     \n",
      ".. topic:: References\n",
      "\n",
      "   - Belsley, Kuh & Welsch, 'Regression diagnostics: Identifying Influential Data and Sources of Collinearity', Wiley, 1980. 244-261.\n",
      "   - Quinlan,R. (1993). Combining Instance-Based and Model-Based Learning. In Proceedings on the Tenth International Conference of Machine Learning, 236-243, University of Massachusetts, Amherst. Morgan Kaufmann.\n",
      "\n"
     ]
    }
   ],
   "source": [
    "\n",
    "print(boston.keys())\n",
    "print(boston.data.shape)\n",
    "print(boston.DESCR)\n",
    "#reshufling the data\n",
    "X, y = shuffle(boston.data, boston.target, random_state=22)"
   ]
  },
  {
   "cell_type": "code",
   "execution_count": 3,
   "metadata": {},
   "outputs": [
    {
     "name": "stdout",
     "output_type": "stream",
     "text": [
      "        0    1      2    3      4      5     6       7    8      9     10  \\\n",
      "0  0.06076  0.0  11.93  0.0  0.573  6.976  91.0  2.1675  1.0  273.0  21.0   \n",
      "1  0.06642  0.0   4.05  0.0  0.510  6.860  74.4  2.9153  5.0  296.0  16.6   \n",
      "2  0.27957  0.0   9.69  0.0  0.585  5.926  42.6  2.3817  6.0  391.0  19.2   \n",
      "3  0.62356  0.0   6.20  1.0  0.507  6.879  77.7  3.2721  8.0  307.0  17.4   \n",
      "4  0.77299  0.0   8.14  0.0  0.538  6.495  94.4  4.4547  4.0  307.0  21.0   \n",
      "\n",
      "       11     12  \n",
      "0  396.90   5.64  \n",
      "1  391.27   6.92  \n",
      "2  396.90  13.59  \n",
      "3  390.39   9.93  \n",
      "4  387.94  12.80  \n"
     ]
    }
   ],
   "source": [
    "bos = pd.DataFrame(X)\n",
    "print(bos.head())"
   ]
  },
  {
   "cell_type": "code",
   "execution_count": 4,
   "metadata": {},
   "outputs": [],
   "source": [
    "X_train, X_test, y_train, y_test = train_test_split(X, y, test_size=0.2, random_state=55)\n",
    "#splitting the data"
   ]
  },
  {
   "cell_type": "markdown",
   "metadata": {},
   "source": [
    "### Checking the spread of values:"
   ]
  },
  {
   "cell_type": "code",
   "execution_count": 5,
   "metadata": {},
   "outputs": [
    {
     "name": "stdout",
     "output_type": "stream",
     "text": [
      "506\n",
      "0.7984189723320159\n",
      "0.2015810276679842\n"
     ]
    }
   ],
   "source": [
    "\n",
    "print(X.shape[0])\n",
    "print(float(X_train.shape[0]) / float(X.shape[0]))\n",
    "print(float(X_test.shape[0]) / float(X.shape[0]))"
   ]
  },
  {
   "cell_type": "markdown",
   "metadata": {},
   "source": [
    "# Ex. 2 Linear regression"
   ]
  },
  {
   "cell_type": "code",
   "execution_count": 6,
   "metadata": {},
   "outputs": [],
   "source": [
    "\n",
    "linreg = LinearRegression().fit(X_train, y_train)\n",
    "Y_pred = linreg.predict(X_test)"
   ]
  },
  {
   "cell_type": "code",
   "execution_count": 7,
   "metadata": {},
   "outputs": [
    {
     "data": {
      "text/plain": [
       "Text(0.5, 1.0, 'Prices vs Predicted prices: $Y_i$ vs $\\\\hat{Y}_i$')"
      ]
     },
     "execution_count": 7,
     "metadata": {},
     "output_type": "execute_result"
    },
    {
     "data": {
      "image/png": "[encoded data removed]",
      "text/plain": [
       "<Figure size 432x288 with 1 Axes>"
      ]
     },
     "metadata": {
      "needs_background": "light"
     },
     "output_type": "display_data"
    }
   ],
   "source": [
    "plt.scatter(y_test, Y_pred)\n",
    "plt.xlabel(\"Prices: $Y_i$\")\n",
    "plt.ylabel(\"Predicted prices: $\\hat{Y}_i$\")\n",
    "plt.title(\"Prices vs Predicted prices: $Y_i$ vs $\\hat{Y}_i$\")"
   ]
  },
  {
   "cell_type": "markdown",
   "metadata": {},
   "source": [
    "# Ex. 3: To check the level of error of a model calculate the Mean Squared Error."
   ]
  },
  {
   "cell_type": "code",
   "execution_count": 8,
   "metadata": {
    "scrolled": true
   },
   "outputs": [
    {
     "name": "stdout",
     "output_type": "stream",
     "text": [
      "0.7631260067419332 \n",
      " 16.148756536519983\n"
     ]
    }
   ],
   "source": [
    "print(linreg.score(X_test, y_test),\"\\n\",np.mean((y_test - Y_pred)**2))"
   ]
  },
  {
   "cell_type": "markdown",
   "metadata": {},
   "source": [
    "# Ex. 4: Calculate the model.score. Check what it is for linear problems. "
   ]
  },
  {
   "cell_type": "code",
   "execution_count": 9,
   "metadata": {},
   "outputs": [
    {
     "name": "stdout",
     "output_type": "stream",
     "text": [
      "PipelineScore method error:\n",
      "0.9308628611382366 \n",
      "\n",
      "Mean square error of all data: \n",
      "4.713387095618482\n"
     ]
    }
   ],
   "source": [
    "scaler = StandardScaler()\n",
    "polynomial_features = PolynomialFeatures(degree=2)\n",
    "pipeline = make_pipeline(scaler, polynomial_features, linreg)\n",
    "pipeline.fit(X, y)\n",
    "X_train, X_test, y_train, y_test = train_test_split(X,y, test_size=0.2, random_state=55)\n",
    "Y_pred = pipeline.predict(X_test)\n",
    "print(\"PipelineScore method error:\")\n",
    "print(pipeline.score(X_test, y_test),\"\\n\") \n",
    "print(\"Mean square error of all data: \")\n",
    "print(np.mean((y_test - Y_pred)**2))"
   ]
  },
  {
   "cell_type": "code",
   "execution_count": 10,
   "metadata": {},
   "outputs": [
    {
     "data": {
      "text/plain": [
       "Text(0.5, 1.0, 'Prices vs Predicted prices: $Y_i$ vs $\\\\hat{Y}_i$')"
      ]
     },
     "execution_count": 10,
     "metadata": {},
     "output_type": "execute_result"
    },
    {
     "data": {
      "image/png": "[encoded data removed]",
      "text/plain": [
       "<Figure size 432x288 with 1 Axes>"
      ]
     },
     "metadata": {
      "needs_background": "light"
     },
     "output_type": "display_data"
    }
   ],
   "source": [
    "plt.scatter(y_test, Y_pred)\n",
    "plt.xlabel(\"Prices: $Y_i$\")\n",
    "plt.ylabel(\"Predicted prices: $\\hat{Y}_i$\")\n",
    "plt.title(\"Prices vs Predicted prices: $Y_i$ vs $\\hat{Y}_i$\")"
   ]
  },
  {
   "cell_type": "markdown",
   "metadata": {},
   "source": [
    "# Ex. 5 Lasso"
   ]
  },
  {
   "cell_type": "code",
   "execution_count": 11,
   "metadata": {},
   "outputs": [
    {
     "data": {
      "text/plain": [
       "[<matplotlib.lines.Line2D at 0x1b28bf05d48>]"
      ]
     },
     "execution_count": 11,
     "metadata": {},
     "output_type": "execute_result"
    },
    {
     "data": {
      "image/png": "[encoded data removed]",
      "text/plain": [
       "<Figure size 432x288 with 1 Axes>"
      ]
     },
     "metadata": {
      "needs_background": "light"
     },
     "output_type": "display_data"
    }
   ],
   "source": [
    "\n",
    "alpha_space = np.linspace(0.001, 1.0, 10000)\n",
    "\n",
    "scores = []\n",
    "for alpha in alpha_space:\n",
    "    L1 = Lasso(alpha=alpha)\n",
    "    L1.fit(X_train, y_train)\n",
    "    Y_pred = L1.predict(X_test)\n",
    "    score = L1.score(X_test, y_test)\n",
    "    scores.append(score)\n",
    "plt.plot(alpha_space,scores)\n"
   ]
  },
  {
   "cell_type": "markdown",
   "metadata": {},
   "source": [
    " ## ^^^ The highest socre is for values of approximately alpha = 0.47"
   ]
  },
  {
   "cell_type": "markdown",
   "metadata": {},
   "source": [
    "# Ex. 6 Ridge regression"
   ]
  },
  {
   "cell_type": "code",
   "execution_count": 12,
   "metadata": {},
   "outputs": [
    {
     "data": {
      "text/plain": [
       "[<matplotlib.lines.Line2D at 0x1b28c944d08>]"
      ]
     },
     "execution_count": 12,
     "metadata": {},
     "output_type": "execute_result"
    },
    {
     "data": {
      "image/png": "[encoded data removed]",
      "text/plain": [
       "<Figure size 432x288 with 1 Axes>"
      ]
     },
     "metadata": {
      "needs_background": "light"
     },
     "output_type": "display_data"
    }
   ],
   "source": [
    "alpha_space = np.linspace(0.001, 40, 1000)\n",
    "scores = []\n",
    "for alpha in alpha_space:\n",
    "    L2 = Ridge(alpha=alpha)\n",
    "    L2.fit(X_train, y_train)\n",
    "    Y_pred = L2.predict(X_test)\n",
    "    score = L2.score(X_test, y_test)\n",
    "    scores.append(score)\n",
    "plt.plot(alpha_space,scores)"
   ]
  },
  {
   "cell_type": "markdown",
   "metadata": {},
   "source": [
    "## ^^^ The highest socre is for values of approximately alpha = 26"
   ]
  },
  {
   "cell_type": "markdown",
   "metadata": {},
   "source": [
    "# Regularization for logistic regression:"
   ]
  },
  {
   "cell_type": "code",
   "execution_count": 13,
   "metadata": {},
   "outputs": [
    {
     "name": "stdout",
     "output_type": "stream",
     "text": [
      ".. _breast_cancer_dataset:\n",
      "\n",
      "Breast cancer wisconsin (diagnostic) dataset\n",
      "--------------------------------------------\n",
      "\n",
      "**Data Set Characteristics:**\n",
      "\n",
      "    :Number of Instances: 569\n",
      "\n",
      "    :Number of Attributes: 30 numeric, predictive attributes and the class\n",
      "\n",
      "    :Attribute Information:\n",
      "        - radius (mean of distances from center to points on the perimeter)\n",
      "        - texture (standard deviation of gray-scale values)\n",
      "        - perimeter\n",
      "        - area\n",
      "        - smoothness (local variation in radius lengths)\n",
      "        - compactness (perimeter^2 / area - 1.0)\n",
      "        - concavity (severity of concave portions of the contour)\n",
      "        - concave points (number of concave portions of the contour)\n",
      "        - symmetry\n",
      "        - fractal dimension (\"coastline approximation\" - 1)\n",
      "\n",
      "        The mean, standard error, and \"worst\" or largest (mean of the three\n",
      "        worst/largest values) of these features were computed for each image,\n",
      "        resulting in 30 features.  For instance, field 0 is Mean Radius, field\n",
      "        10 is Radius SE, field 20 is Worst Radius.\n",
      "\n",
      "        - class:\n",
      "                - WDBC-Malignant\n",
      "                - WDBC-Benign\n",
      "\n",
      "    :Summary Statistics:\n",
      "\n",
      "    ===================================== ====== ======\n",
      "                                           Min    Max\n",
      "    ===================================== ====== ======\n",
      "    radius (mean):                        6.981  28.11\n",
      "    texture (mean):                       9.71   39.28\n",
      "    perimeter (mean):                     43.79  188.5\n",
      "    area (mean):                          143.5  2501.0\n",
      "    smoothness (mean):                    0.053  0.163\n",
      "    compactness (mean):                   0.019  0.345\n",
      "    concavity (mean):                     0.0    0.427\n",
      "    concave points (mean):                0.0    0.201\n",
      "    symmetry (mean):                      0.106  0.304\n",
      "    fractal dimension (mean):             0.05   0.097\n",
      "    radius (standard error):              0.112  2.873\n",
      "    texture (standard error):             0.36   4.885\n",
      "    perimeter (standard error):           0.757  21.98\n",
      "    area (standard error):                6.802  542.2\n",
      "    smoothness (standard error):          0.002  0.031\n",
      "    compactness (standard error):         0.002  0.135\n",
      "    concavity (standard error):           0.0    0.396\n",
      "    concave points (standard error):      0.0    0.053\n",
      "    symmetry (standard error):            0.008  0.079\n",
      "    fractal dimension (standard error):   0.001  0.03\n",
      "    radius (worst):                       7.93   36.04\n",
      "    texture (worst):                      12.02  49.54\n",
      "    perimeter (worst):                    50.41  251.2\n",
      "    area (worst):                         185.2  4254.0\n",
      "    smoothness (worst):                   0.071  0.223\n",
      "    compactness (worst):                  0.027  1.058\n",
      "    concavity (worst):                    0.0    1.252\n",
      "    concave points (worst):               0.0    0.291\n",
      "    symmetry (worst):                     0.156  0.664\n",
      "    fractal dimension (worst):            0.055  0.208\n",
      "    ===================================== ====== ======\n",
      "\n",
      "    :Missing Attribute Values: None\n",
      "\n",
      "    :Class Distribution: 212 - Malignant, 357 - Benign\n",
      "\n",
      "    :Creator:  Dr. William H. Wolberg, W. Nick Street, Olvi L. Mangasarian\n",
      "\n",
      "    :Donor: Nick Street\n",
      "\n",
      "    :Date: November, 1995\n",
      "\n",
      "This is a copy of UCI ML Breast Cancer Wisconsin (Diagnostic) datasets.\n",
      "https://goo.gl/U2Uwz2\n",
      "\n",
      "Features are computed from a digitized image of a fine needle\n",
      "aspirate (FNA) of a breast mass.  They describe\n",
      "characteristics of the cell nuclei present in the image.\n",
      "\n",
      "Separating plane described above was obtained using\n",
      "Multisurface Method-Tree (MSM-T) [K. P. Bennett, \"Decision Tree\n",
      "Construction Via Linear Programming.\" Proceedings of the 4th\n",
      "Midwest Artificial Intelligence and Cognitive Science Society,\n",
      "pp. 97-101, 1992], a classification method which uses linear\n",
      "programming to construct a decision tree.  Relevant features\n",
      "were selected using an exhaustive search in the space of 1-4\n",
      "features and 1-3 separating planes.\n",
      "\n",
      "The actual linear program used to obtain the separating plane\n",
      "in the 3-dimensional space is that described in:\n",
      "[K. P. Bennett and O. L. Mangasarian: \"Robust Linear\n",
      "Programming Discrimination of Two Linearly Inseparable Sets\",\n",
      "Optimization Methods and Software 1, 1992, 23-34].\n",
      "\n",
      "This database is also available through the UW CS ftp server:\n",
      "\n",
      "ftp ftp.cs.wisc.edu\n",
      "cd math-prog/cpo-dataset/machine-learn/WDBC/\n",
      "\n",
      ".. topic:: References\n",
      "\n",
      "   - W.N. Street, W.H. Wolberg and O.L. Mangasarian. Nuclear feature extraction \n",
      "     for breast tumor diagnosis. IS&T/SPIE 1993 International Symposium on \n",
      "     Electronic Imaging: Science and Technology, volume 1905, pages 861-870,\n",
      "     San Jose, CA, 1993.\n",
      "   - O.L. Mangasarian, W.N. Street and W.H. Wolberg. Breast cancer diagnosis and \n",
      "     prognosis via linear programming. Operations Research, 43(4), pages 570-577, \n",
      "     July-August 1995.\n",
      "   - W.H. Wolberg, W.N. Street, and O.L. Mangasarian. Machine learning techniques\n",
      "     to diagnose breast cancer from fine-needle aspirates. Cancer Letters 77 (1994) \n",
      "     163-171.\n"
     ]
    }
   ],
   "source": [
    "from sklearn.datasets import load_breast_cancer\n",
    "data = load_breast_cancer()\n",
    "print(data.DESCR)"
   ]
  },
  {
   "cell_type": "markdown",
   "metadata": {},
   "source": [
    "# Ex. 1: Using function .isnull() check wether the database contains missing values.\n",
    "# Please fill the missing values with mean values for giving class."
   ]
  },
  {
   "cell_type": "code",
   "execution_count": null,
   "metadata": {},
   "outputs": [],
   "source": [
    "print(data.data.shape[0],data.data.shape[1],data.target.shape[0])"
   ]
  },
  {
   "cell_type": "markdown",
   "metadata": {},
   "source": [
    "## Concatening the data with classes, in order to divide into classes of having/not having cancer. \n",
    "\n",
    "### To fill the null values with means of columns with regard to respective classes:"
   ]
  },
  {
   "cell_type": "code",
   "execution_count": 14,
   "metadata": {},
   "outputs": [
    {
     "name": "stdout",
     "output_type": "stream",
     "text": [
      "569 30 569\n",
      "[[1.799e+01 1.038e+01 1.228e+02 ... 4.601e-01 1.189e-01 0.000e+00]\n",
      " [2.057e+01 1.777e+01 1.329e+02 ... 2.750e-01 8.902e-02 0.000e+00]\n",
      " [1.969e+01 2.125e+01 1.300e+02 ... 3.613e-01 8.758e-02 0.000e+00]\n",
      " ...\n",
      " [1.660e+01 2.808e+01 1.083e+02 ... 2.218e-01 7.820e-02 0.000e+00]\n",
      " [2.060e+01 2.933e+01 1.401e+02 ... 4.087e-01 1.240e-01 0.000e+00]\n",
      " [7.760e+00 2.454e+01 4.792e+01 ... 2.871e-01 7.039e-02 1.000e+00]]\n",
      "569 31\n"
     ]
    }
   ],
   "source": [
    "data.target=data.target.reshape((data.target.shape[0],1))\n",
    "data_new=np.hstack((data.data, data.target))\n",
    "print(data_new)\n",
    "print(data_new.shape[0],data_new.shape[1])"
   ]
  },
  {
   "cell_type": "code",
   "execution_count": 15,
   "metadata": {},
   "outputs": [
    {
     "name": "stdout",
     "output_type": "stream",
     "text": [
      "        0      1      2      3      4      5      6      7      8      9   \\\n",
      "0    False  False  False  False  False  False  False  False  False  False   \n",
      "1    False  False  False  False  False  False  False  False  False  False   \n",
      "2    False  False  False  False  False  False  False  False  False  False   \n",
      "3    False  False  False  False  False  False  False  False  False  False   \n",
      "4    False  False  False  False  False  False  False  False  False  False   \n",
      "..     ...    ...    ...    ...    ...    ...    ...    ...    ...    ...   \n",
      "564  False  False  False  False  False  False  False  False  False  False   \n",
      "565  False  False  False  False  False  False  False  False  False  False   \n",
      "566  False  False  False  False  False  False  False  False  False  False   \n",
      "567  False  False  False  False  False  False  False  False  False  False   \n",
      "568  False  False  False  False  False  False  False  False  False  False   \n",
      "\n",
      "     ...     21     22     23     24     25     26     27     28     29     30  \n",
      "0    ...  False  False  False  False  False  False  False  False  False  False  \n",
      "1    ...  False  False  False  False  False  False  False  False  False  False  \n",
      "2    ...  False  False  False  False  False  False  False  False  False  False  \n",
      "3    ...  False  False  False  False  False  False  False  False  False  False  \n",
      "4    ...  False  False  False  False  False  False  False  False  False  False  \n",
      "..   ...    ...    ...    ...    ...    ...    ...    ...    ...    ...    ...  \n",
      "564  ...  False  False  False  False  False  False  False  False  False  False  \n",
      "565  ...  False  False  False  False  False  False  False  False  False  False  \n",
      "566  ...  False  False  False  False  False  False  False  False  False  False  \n",
      "567  ...  False  False  False  False  False  False  False  False  False  False  \n",
      "568  ...  False  False  False  False  False  False  False  False  False  False  \n",
      "\n",
      "[569 rows x 31 columns]\n"
     ]
    }
   ],
   "source": [
    "df = pd.DataFrame(data_new)\n",
    "print(df.isnull())\n",
    "#splitting the data by class\n",
    "df1 = df[df[30] == 0]\n",
    "df2 = df[df[30] == 1]\n"
   ]
  },
  {
   "cell_type": "code",
   "execution_count": 16,
   "metadata": {},
   "outputs": [
    {
     "name": "stdout",
     "output_type": "stream",
     "text": [
      "569 212 357\n",
      "         0      1       2       3        4        5        6         7   \\\n",
      "19   13.540  14.36   87.46   566.3  0.09779  0.08129  0.06664  0.047810   \n",
      "20   13.080  15.71   85.63   520.0  0.10750  0.12700  0.04568  0.031100   \n",
      "21    9.504  12.44   60.34   273.9  0.10240  0.06492  0.02956  0.020760   \n",
      "37   13.030  18.42   82.61   523.8  0.08983  0.03766  0.02562  0.029230   \n",
      "46    8.196  16.84   51.71   201.9  0.08600  0.05943  0.01588  0.005917   \n",
      "..      ...    ...     ...     ...      ...      ...      ...       ...   \n",
      "563  20.920  25.09  143.00  1347.0  0.10990  0.22360  0.31740  0.147400   \n",
      "564  21.560  22.39  142.00  1479.0  0.11100  0.11590  0.24390  0.138900   \n",
      "565  20.130  28.25  131.20  1261.0  0.09780  0.10340  0.14400  0.097910   \n",
      "566  16.600  28.08  108.30   858.1  0.08455  0.10230  0.09251  0.053020   \n",
      "567  20.600  29.33  140.10  1265.0  0.11780  0.27700  0.35140  0.152000   \n",
      "\n",
      "         8        9   ...     21      22      23       24       25       26  \\\n",
      "19   0.1885  0.05766  ...  19.26   99.70   711.2  0.14400  0.17730  0.23900   \n",
      "20   0.1967  0.06811  ...  20.49   96.09   630.5  0.13120  0.27760  0.18900   \n",
      "21   0.1815  0.06905  ...  15.66   65.13   314.9  0.13240  0.11480  0.08867   \n",
      "37   0.1467  0.05863  ...  22.81   84.46   545.9  0.09701  0.04619  0.04833   \n",
      "46   0.1769  0.06503  ...  21.96   57.26   242.2  0.12970  0.13570  0.06880   \n",
      "..      ...      ...  ...    ...     ...     ...      ...      ...      ...   \n",
      "563  0.2149  0.06879  ...  29.41  179.10  1819.0  0.14070  0.41860  0.65990   \n",
      "564  0.1726  0.05623  ...  26.40  166.10  2027.0  0.14100  0.21130  0.41070   \n",
      "565  0.1752  0.05533  ...  38.25  155.00  1731.0  0.11660  0.19220  0.32150   \n",
      "566  0.1590  0.05648  ...  34.12  126.70  1124.0  0.11390  0.30940  0.34030   \n",
      "567  0.2397  0.07016  ...  39.42  184.60  1821.0  0.16500  0.86810  0.93870   \n",
      "\n",
      "          27      28       29   30  \n",
      "19   0.12880  0.2977  0.07259  1.0  \n",
      "20   0.07283  0.3184  0.08183  1.0  \n",
      "21   0.06227  0.2450  0.07773  1.0  \n",
      "37   0.05013  0.1987  0.06169  1.0  \n",
      "46   0.02564  0.3105  0.07409  1.0  \n",
      "..       ...     ...      ...  ...  \n",
      "563  0.25420  0.2929  0.09873  0.0  \n",
      "564  0.22160  0.2060  0.07115  0.0  \n",
      "565  0.16280  0.2572  0.06637  0.0  \n",
      "566  0.14180  0.2218  0.07820  0.0  \n",
      "567  0.26500  0.4087  0.12400  0.0  \n",
      "\n",
      "[569 rows x 31 columns]\n"
     ]
    }
   ],
   "source": [
    "# Filling the null values with mean of columns\n",
    "df1=df1.fillna(df1.mean())\n",
    "df2=df2.fillna(df2.mean())\n",
    "# Concatening the data back together\n",
    "df=pd.concat([df2, df1])\n",
    "print(df.shape[0],df1.shape[0],df2.shape[0])\n",
    "print(df)"
   ]
  },
  {
   "cell_type": "code",
   "execution_count": 17,
   "metadata": {},
   "outputs": [
    {
     "name": "stdout",
     "output_type": "stream",
     "text": [
      "        0      1       2       3        4        5         6         7   \\\n",
      "123  12.89  14.11   84.95   512.2  0.08760  0.13460  0.137400  0.039800   \n",
      "30   13.27  14.76   84.74   551.7  0.07355  0.05055  0.032610  0.026480   \n",
      "370  15.85  23.95  103.70   782.7  0.08401  0.10020  0.099380  0.053640   \n",
      "262  11.99  24.89   77.61   441.3  0.10300  0.09218  0.054410  0.042740   \n",
      "89   10.08  15.11   63.76   317.5  0.09267  0.04695  0.001597  0.002404   \n",
      "..     ...    ...     ...     ...      ...      ...       ...       ...   \n",
      "491  17.35  23.06  111.00   933.1  0.08662  0.06290  0.028910  0.028370   \n",
      "502  11.76  18.14   75.00   431.1  0.09968  0.05914  0.026850  0.035150   \n",
      "358  20.57  17.77  132.90  1326.0  0.08474  0.07864  0.086900  0.070170   \n",
      "356   7.76  24.54   47.92   181.0  0.05263  0.04362  0.000000  0.000000   \n",
      "132  11.29  13.04   72.23   388.0  0.09834  0.07608  0.032650  0.027550   \n",
      "\n",
      "         8        9   ...      20     21      22      23       24       25  \\\n",
      "123  0.1596  0.06409  ...  14.390  17.70  105.00   639.1  0.12540  0.58490   \n",
      "30   0.1386  0.05318  ...  16.360  22.35  104.50   830.6  0.10060  0.12380   \n",
      "370  0.1847  0.05338  ...  16.840  27.66  112.00   876.5  0.11310  0.19240   \n",
      "262  0.1820  0.06850  ...  12.980  30.36   84.48   513.9  0.13110  0.18220   \n",
      "89   0.1703  0.06048  ...  11.870  21.18   75.39   437.0  0.15210  0.10190   \n",
      "..      ...      ...  ...     ...    ...     ...     ...      ...      ...   \n",
      "491  0.1564  0.05307  ...  19.850  31.47  128.20  1218.0  0.12400  0.14860   \n",
      "502  0.1619  0.06287  ...  13.360  23.39   85.10   553.6  0.11370  0.07974   \n",
      "358  0.1812  0.05667  ...  24.990  23.41  158.80  1956.0  0.12380  0.18660   \n",
      "356  0.1587  0.05884  ...   9.456  30.37   59.16   268.6  0.08996  0.06444   \n",
      "132  0.1769  0.06270  ...  12.320  16.18   78.27   457.5  0.13580  0.15070   \n",
      "\n",
      "          26       27      28       29  \n",
      "123  0.77270  0.15610  0.2639  0.11780  \n",
      "30   0.13500  0.10010  0.2027  0.06206  \n",
      "370  0.23220  0.11190  0.2809  0.06287  \n",
      "262  0.16090  0.12020  0.2599  0.08251  \n",
      "89   0.00692  0.01042  0.2933  0.07697  \n",
      "..       ...      ...     ...      ...  \n",
      "491  0.12110  0.08235  0.2452  0.06515  \n",
      "502  0.06120  0.07160  0.1978  0.06915  \n",
      "358  0.24160  0.18600  0.2750  0.08902  \n",
      "356  0.00000  0.00000  0.2871  0.07039  \n",
      "132  0.12750  0.08750  0.2733  0.08022  \n",
      "\n",
      "[569 rows x 30 columns] 123    1.0\n",
      "30     1.0\n",
      "370    0.0\n",
      "262    1.0\n",
      "89     1.0\n",
      "      ... \n",
      "491    0.0\n",
      "502    0.0\n",
      "358    0.0\n",
      "356    1.0\n",
      "132    1.0\n",
      "Name: 30, Length: 569, dtype: float64\n"
     ]
    }
   ],
   "source": [
    "# Resetting index\n",
    "df.reset_index(drop=True, inplace=True)\n",
    "# target value is now at column 31, remaining 30 is the data.\n",
    "X, y = shuffle(df.loc[:, 0:29], df.loc[:,30], random_state=22)\n",
    "print(X,y)"
   ]
  },
  {
   "cell_type": "code",
   "execution_count": 18,
   "metadata": {},
   "outputs": [],
   "source": [
    "X_train, X_test, y_train, y_test = train_test_split(X, y, test_size=0.2, random_state=55) # Splitting "
   ]
  },
  {
   "cell_type": "code",
   "execution_count": 19,
   "metadata": {},
   "outputs": [
    {
     "name": "stdout",
     "output_type": "stream",
     "text": [
      "score = 0.9736842105263158 \n",
      "\n",
      "mean squared error = 0.02631578947368421\n"
     ]
    },
    {
     "name": "stderr",
     "output_type": "stream",
     "text": [
      "D:\\ProgramData\\Anaconda3\\lib\\site-packages\\sklearn\\svm\\_base.py:977: ConvergenceWarning: Liblinear failed to converge, increase the number of iterations.\n",
      "  \"the number of iterations.\", ConvergenceWarning)\n"
     ]
    }
   ],
   "source": [
    "logreg = LogisticRegression(solver='liblinear',penalty = 'l1', C=1) \n",
    "#liblinear solver allows Lasso regularization ^ we are specifying for what method the penalty is applied (Lasso)\n",
    "logreg.fit(X_train, y_train)\n",
    "Y_pred = logreg.predict(X_test)\n",
    "score = logreg.score(X_test, y_test)\n",
    "print(\"score =\",score,\"\\n\")\n",
    "print(\"mean squared error =\",np.mean((y_test - Y_pred)**2))"
   ]
  },
  {
   "cell_type": "code",
   "execution_count": 20,
   "metadata": {},
   "outputs": [
    {
     "name": "stdout",
     "output_type": "stream",
     "text": [
      "[0.9210526315789473, 0.9649122807017544, 0.9649122807017544, 0.9649122807017544, 0.9649122807017544, 0.9649122807017544, 0.9649122807017544, 0.9649122807017544, 0.9649122807017544, 0.9649122807017544]\n",
      "plot of accuracy by C values\n"
     ]
    },
    {
     "data": {
      "image/png": "[encoded data removed]",
      "text/plain": [
       "<Figure size 432x288 with 1 Axes>"
      ]
     },
     "metadata": {
      "needs_background": "light"
     },
     "output_type": "display_data"
    }
   ],
   "source": [
    "C_space = np.linspace(0.0001, 1.0, 10)\n",
    "\n",
    "scores = []\n",
    "for C in C_space:\n",
    "    logreg = LogisticRegression(solver='liblinear',penalty = 'l2', C=C)\n",
    "    logreg.fit(X_train, y_train)\n",
    "    Y_pred = logreg.predict(X_test)\n",
    "    score = logreg.score(X_test, y_test)\n",
    "    scores.append(score)\n",
    "plt.plot(C_space,scores)\n",
    "print(scores)\n",
    "print(\"plot of accuracy by C values\")"
   ]
  },
  {
   "cell_type": "markdown",
   "metadata": {},
   "source": [
    "# Best for approximately 0.013 penalty value."
   ]
  },
  {
   "cell_type": "code",
   "execution_count": 21,
   "metadata": {},
   "outputs": [
    {
     "name": "stdout",
     "output_type": "stream",
     "text": [
      "[0.9777777777777777, 0.9333333333333333, 0.9777777777777777, 0.9111111111111111, 0.9111111111111111, 0.9111111111111111, 0.9111111111111111, 0.9111111111111111, 0.9111111111111111, 0.9111111111111111, 0.9333333333333333, 0.9333333333333333, 0.9333333333333333, 0.9111111111111111, 0.9111111111111111, 0.8888888888888888, 0.8888888888888888, 0.8888888888888888, 0.8888888888888888, 0.8888888888888888, 0.8888888888888888, 0.8888888888888888, 0.8888888888888888, 0.8888888888888888, 0.9111111111111111, 0.8888888888888888, 0.9111111111111111, 0.9111111111111111, 0.9111111111111111, 0.8666666666666667, 0.9111111111111111, 0.8666666666666667, 0.8888888888888888, 0.8666666666666667, 0.8666666666666667, 0.8666666666666667, 0.8666666666666667, 0.8666666666666667, 0.8666666666666667, 0.8666666666666667, 0.8666666666666667, 0.8666666666666667, 0.8666666666666667, 0.8666666666666667, 0.8666666666666667, 0.8666666666666667, 0.8444444444444444, 0.8666666666666667, 0.8444444444444444]\n"
     ]
    },
    {
     "data": {
      "image/png": "[encoded data removed]",
      "text/plain": [
       "<Figure size 432x288 with 1 Axes>"
      ]
     },
     "metadata": {
      "needs_background": "light"
     },
     "output_type": "display_data"
    }
   ],
   "source": [
    "db_iris = datasets.load_iris()\n",
    " \n",
    "X_train, X_test, y_train, y_test = train_test_split(db_iris.data, db_iris.target, test_size=0.3, random_state=88)\n",
    "ks=[]\n",
    "scores=[]\n",
    "k_space=range(1,50) \n",
    "for k in k_space: # Varying the amount of neighbors to see the effect on the dataset.\n",
    "    knn = KNeighborsClassifier(n_neighbors=k);\n",
    "    knn.fit(X_train, y_train);\n",
    "    Y_pred = knn.predict(X_test)\n",
    "    score = knn.score(X_test, y_test)\n",
    "    scores.append(score)\n",
    "    ks.append(k)\n",
    "plt.plot(k_space,scores)\n",
    "print(scores)"
   ]
  },
  {
   "cell_type": "markdown",
   "metadata": {},
   "source": [
    "# Seeking for the optimal k value:"
   ]
  },
  {
   "cell_type": "code",
   "execution_count": 22,
   "metadata": {},
   "outputs": [
    {
     "name": "stdout",
     "output_type": "stream",
     "text": [
      "optymalne k =\n",
      " 3.0\n"
     ]
    }
   ],
   "source": [
    "result=[list(k_space), scores]\n",
    "result=np.array(result)\n",
    "\n",
    "result = result[:,result[1,:].argsort()]\n",
    "\n",
    "result = result[:,result[1,:].argmax()]\n",
    "#print(result)\n",
    "k_optimal = result[0]#[0,:]\n",
    "#k_optimal = k_optimal[k_optimal.argsort()]\n",
    "#result=np.append(k_space, scores,axis=0)\n",
    "\n",
    "print(\"optymalne k =\\n\",k_optimal)"
   ]
  },
  {
   "cell_type": "code",
   "execution_count": 23,
   "metadata": {},
   "outputs": [
    {
     "name": "stdout",
     "output_type": "stream",
     "text": [
      "[0.5777777777777777, 0.9333333333333333, 0.9333333333333333, 0.8666666666666667, 0.9111111111111111, 0.9333333333333333, 0.9333333333333333, 0.9777777777777777, 0.8888888888888888, 0.8888888888888888, 0.9777777777777777, 0.9333333333333333, 0.8888888888888888, 0.9777777777777777, 0.8888888888888888, 0.8888888888888888, 0.8888888888888888, 0.8888888888888888, 0.9333333333333333, 0.8888888888888888, 0.9333333333333333, 0.9333333333333333, 0.8888888888888888, 0.8888888888888888, 0.8888888888888888, 0.8888888888888888, 0.9777777777777777, 0.9333333333333333, 0.9333333333333333, 0.8888888888888888, 0.8888888888888888, 0.8888888888888888, 0.9333333333333333, 0.8888888888888888, 0.9333333333333333, 0.9333333333333333, 0.9333333333333333, 0.9333333333333333, 0.9333333333333333, 0.8888888888888888, 0.8888888888888888, 0.8888888888888888, 0.9333333333333333, 0.8888888888888888, 0.8888888888888888, 0.9333333333333333, 0.8888888888888888, 0.9333333333333333, 0.9333333333333333]\n",
      "optymalne głębokości =\n",
      " 11.0\n"
     ]
    },
    {
     "data": {
      "image/png": "[encoded data removed]",
      "text/plain": [
       "<Figure size 432x288 with 1 Axes>"
      ]
     },
     "metadata": {
      "needs_background": "light"
     },
     "output_type": "display_data"
    }
   ],
   "source": [
    "iris = load_iris()\n",
    "X_train, X_test, y_train, y_test = train_test_split(db_iris.data, db_iris.target, test_size=0.3, random_state=88)\n",
    "deps=[]\n",
    "scores=[]\n",
    "dep_space=range(1,50)\n",
    "for dep in dep_space: # Seeking for the optimal depth of decision tree.\n",
    "    clf = tree.DecisionTreeClassifier(max_depth=dep);\n",
    "    clf.fit(X_train, y_train);\n",
    "    Y_pred = clf.predict(X_test)\n",
    "    score = clf.score(X_test, y_test)\n",
    "    scores.append(score)\n",
    "    deps.append(dep)\n",
    "plt.plot(dep_space,scores)\n",
    "print(scores)\n",
    "\n",
    "result=[list(dep_space), scores]\n",
    "result=np.array(result)\n",
    "\n",
    "result = result[:,result[1,:].argsort()]\n",
    "result = result[:,result[1,:].argmax()]\n",
    "\n",
    "dep_optimal = result[0]\n",
    "\n",
    "\n",
    "print(\"optymalne głębokości =\\n\",dep_optimal)\n",
    "\n"
   ]
  },
  {
   "cell_type": "markdown",
   "metadata": {},
   "source": [
    "# However, the 8 value is less, and fits the data with the same accuracy."
   ]
  },
  {
   "cell_type": "code",
   "execution_count": null,
   "metadata": {},
   "outputs": [],
   "source": []
  }
 ],
 "metadata": {
  "kernelspec": {
   "display_name": "Python 3",
   "language": "python",
   "name": "python3"
  },
  "language_info": {
   "codemirror_mode": {
    "name": "ipython",
    "version": 3
   },
   "file_extension": ".py",
   "mimetype": "text/x-python",
   "name": "python",
   "nbconvert_exporter": "python",
   "pygments_lexer": "ipython3",
   "version": "3.7.7"
  }
 },
 "nbformat": 4,
 "nbformat_minor": 4
}
